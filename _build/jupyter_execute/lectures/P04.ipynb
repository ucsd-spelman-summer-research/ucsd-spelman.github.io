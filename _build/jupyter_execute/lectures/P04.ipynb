{
 "cells": [
  {
   "cell_type": "markdown",
   "metadata": {},
   "source": [
    "\n",
    "# P04: Dictionaries, Sets, and File reading and writing (File I/O)\n",
    "\n",
    "* Understand ordered vs unordered collections\n",
    "* Key:Value pairs - using a key to access a desired value from a dictionary\n",
    "* Set operations (intersection, union, etc). \n",
    "* Absolute vs relative file paths\n",
    "* Writing to text files, reading from text files \n",
    "\n",
    "\n",
    "\n"
   ]
  }
 ],
 "metadata": {
  "kernelspec": {
   "display_name": "Python 3",
   "language": "python",
   "name": "python3"
  },
  "language_info": {
   "codemirror_mode": {
    "name": "ipython",
    "version": 3
   },
   "file_extension": ".py",
   "mimetype": "text/x-python",
   "name": "python",
   "nbconvert_exporter": "python",
   "pygments_lexer": "ipython3",
   "version": "3.9.7"
  }
 },
 "nbformat": 4,
 "nbformat_minor": 1
}