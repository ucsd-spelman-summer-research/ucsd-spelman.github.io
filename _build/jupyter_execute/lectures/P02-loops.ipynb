{
 "cells": [
  {
   "cell_type": "markdown",
   "metadata": {},
   "source": [
    "# P02: Loops!\n",
    "\n",
    "Loops are a control structure that allows repeated execution of the same instructions.  The canonical loop is a `while` loop.  It checks if a condition is met, and executes its code block if it is met.  If the condition is not met, it proceeds to the instructions following its code block.  All loops basically have this structure, however, some are a bit more convenient, and less error prone than while loops.  In particular `for` loops are a great convenience which we will cover here.\n",
    "\n",
    "Here is a picture of the loop control flow:\n",
    "\n",
    "![loop](img/loop-flow.jpg)"
   ]
  },
  {
   "cell_type": "markdown",
   "metadata": {},
   "source": [
    "## Lists\n",
    "\n",
    "So far we have dealt with *atomic* data types.  We will also want to work with compound data types that contain lots of things.  The most common compound data type in Python is a **list**.  A list is a **sequence** of objects, which can be created with square brackets: `[1, 2, 3]`."
   ]
  },
  {
   "cell_type": "code",
   "execution_count": 1,
   "metadata": {
    "pycharm": {
     "name": "#%%\n"
    }
   },
   "outputs": [
    {
     "name": "stdout",
     "output_type": "stream",
     "text": [
      "[1, 2, 'a', 3]\n"
     ]
    }
   ],
   "source": [
    "my_list = [1, 2, 'a', 3]\n",
    "print(my_list)"
   ]
  },
  {
   "cell_type": "markdown",
   "metadata": {},
   "source": [
    "we will talk much more about lists and sequences later, but for the sake of this week's problem set, we need to learn how to *add* items to a list, and how to *loop* through a list.\n",
    "\n",
    "### adding to a list\n",
    "\n",
    "We can add to an existing list with the `.append()` method."
   ]
  },
  {
   "cell_type": "code",
   "execution_count": 2,
   "metadata": {
    "pycharm": {
     "name": "#%%\n"
    }
   },
   "outputs": [
    {
     "name": "stdout",
     "output_type": "stream",
     "text": [
      "[1, 2, 'a', 3]\n",
      "[1, 2, 'a', 3, 'cow']\n"
     ]
    }
   ],
   "source": [
    "print(my_list)\n",
    "my_list.append('cow')\n",
    "print(my_list)"
   ]
  },
  {
   "cell_type": "markdown",
   "metadata": {},
   "source": [
    "## for loop iteration over a list\n",
    "\n",
    "If we want to do something to each member of a list, we want to *iterate* over that list in a *for* loop.   To accomplish this, we will use the `for` loop control structure:\n",
    "\n",
    "```python\n",
    "for x in iterable:\n",
    "    do stuff\n",
    "    do more stuff\n",
    "```\n",
    "\n",
    "What this notation is doing is generating a \"loop\", which iterates over all the elements in `iterable`.  On each iteration it assigns the next item from the iterable to `x`, and then executes the for loop code block (indicating by indentation).  We need not worry about what an \"iterable\" is exactly just yet.  For now, it is sufficient to say that a list is an iterable, so it can be iterated over with a for loop like the above."
   ]
  },
  {
   "cell_type": "code",
   "execution_count": 3,
   "metadata": {
    "pycharm": {
     "name": "#%%\n"
    }
   },
   "outputs": [
    {
     "name": "stdout",
     "output_type": "stream",
     "text": [
      "current item is:  1\n",
      "current item is:  2\n",
      "current item is:  a\n",
      "current item is:  3\n"
     ]
    }
   ],
   "source": [
    "my_list = [1, 2, 'a', 3]\n",
    "for item in my_list:\n",
    "    print('current item is: ', item)"
   ]
  },
  {
   "cell_type": "markdown",
   "metadata": {},
   "source": [
    "### range()\n",
    "\n",
    "It is very common to run a for loop over some sequence of integers.  So it would be helpful to have a function that defines a sequence of integers for us.\n",
    "\n",
    "The command `range` does that.\n",
    "\n",
    "The syntax for the range command is\n",
    "`range(start, stop)`\n",
    "\n",
    "and it generates an *iterable* that we can *iterate* over (such as in a for loop) with the integers starting with `start` and ending at `stop`-1 (in steps of 1 -- default if no 3rd argument is provided)"
   ]
  },
  {
   "cell_type": "code",
   "execution_count": 4,
   "metadata": {
    "pycharm": {
     "name": "#%%\n"
    }
   },
   "outputs": [
    {
     "name": "stdout",
     "output_type": "stream",
     "text": [
      "5\n",
      "6\n",
      "7\n",
      "8\n",
      "9\n",
      "10\n",
      "11\n",
      "12\n",
      "13\n",
      "14\n",
      "15\n",
      "16\n",
      "17\n",
      "18\n",
      "19\n",
      "20\n"
     ]
    }
   ],
   "source": [
    "for i in range(5, 21):\n",
    "    print(i)"
   ]
  },
  {
   "cell_type": "markdown",
   "metadata": {},
   "source": [
    "Note that 5 was printed, but 21 was not!\n",
    "\n",
    "If we provide only one argument, it assumes that `first=0` and treats the argument we provide as `stop`."
   ]
  },
  {
   "cell_type": "code",
   "execution_count": 5,
   "metadata": {
    "pycharm": {
     "name": "#%%\n"
    }
   },
   "outputs": [
    {
     "name": "stdout",
     "output_type": "stream",
     "text": [
      "0\n",
      "1\n",
      "2\n",
      "3\n",
      "4\n",
      "5\n",
      "6\n",
      "7\n",
      "8\n",
      "9\n"
     ]
    }
   ],
   "source": [
    "for i in range(10):\n",
    "    print(i)"
   ]
  },
  {
   "cell_type": "markdown",
   "metadata": {},
   "source": [
    "Note that 0 was printed, but 10 was not!\n"
   ]
  },
  {
   "cell_type": "markdown",
   "metadata": {},
   "source": [
    "\n",
    "## `continue`\n",
    "\n",
    "`continue` is a special operator to jump ahead to the next iteration of a loop."
   ]
  },
  {
   "cell_type": "code",
   "execution_count": 6,
   "metadata": {
    "pycharm": {
     "name": "#%%\n"
    }
   },
   "outputs": [
    {
     "name": "stdout",
     "output_type": "stream",
     "text": [
      "0\n",
      "1\n",
      "3\n",
      "4\n",
      "5\n"
     ]
    }
   ],
   "source": [
    "for item in range(6):\n",
    "    if item == 2:\n",
    "        continue\n",
    "    print(item)"
   ]
  },
  {
   "cell_type": "markdown",
   "metadata": {
    "pycharm": {
     "name": "#%% md\n"
    }
   },
   "source": [
    "note that we \"skipped 2\".  In practice what happened is that we stopped the iteration (and moved onto the next one) before the print statement was reached."
   ]
  },
  {
   "cell_type": "code",
   "execution_count": 7,
   "metadata": {
    "pycharm": {
     "name": "#%%\n"
    }
   },
   "outputs": [
    {
     "name": "stdout",
     "output_type": "stream",
     "text": [
      "start of for block for: 0\n",
      "end of for block for: 0\n",
      "start of for block for: 1\n",
      "end of for block for: 1\n",
      "start of for block for: 2\n",
      "start of for block for: 3\n",
      "end of for block for: 3\n",
      "start of for block for: 4\n",
      "end of for block for: 4\n",
      "start of for block for: 5\n",
      "end of for block for: 5\n"
     ]
    }
   ],
   "source": [
    "for item in  range(6):\n",
    "    print(\"start of for block for:\", item)\n",
    "    if item == 2:\n",
    "        continue\n",
    "    print(\"end of for block for:\", item)"
   ]
  },
  {
   "cell_type": "markdown",
   "metadata": {},
   "source": [
    "## `break`\n",
    "\n",
    "`break` is a special operator to get out of the loop.\n",
    "\n",
    "### `break` example"
   ]
  },
  {
   "cell_type": "code",
   "execution_count": 8,
   "metadata": {
    "pycharm": {
     "name": "#%%\n"
    }
   },
   "outputs": [
    {
     "name": "stdout",
     "output_type": "stream",
     "text": [
      "0\n",
      "1\n"
     ]
    }
   ],
   "source": [
    "for item in range(6):\n",
    "\n",
    "    if item == 2:\n",
    "        break\n",
    "\n",
    "    print(item)"
   ]
  },
  {
   "cell_type": "code",
   "execution_count": null,
   "metadata": {
    "pycharm": {
     "name": "#%%"
    }
   },
   "outputs": [],
   "source": []
  }
 ],
 "metadata": {
  "kernelspec": {
   "display_name": "Python 3 (ipykernel)",
   "language": "python",
   "name": "python3"
  },
  "language_info": {
   "codemirror_mode": {
    "name": "ipython",
    "version": 3
   },
   "file_extension": ".py",
   "mimetype": "text/x-python",
   "name": "python",
   "nbconvert_exporter": "python",
   "pygments_lexer": "ipython3",
   "version": "3.9.7"
  }
 },
 "nbformat": 4,
 "nbformat_minor": 4
}