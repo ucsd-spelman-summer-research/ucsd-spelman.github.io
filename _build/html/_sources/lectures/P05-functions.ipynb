{
 "cells": [
  {
   "cell_type": "markdown",
   "metadata": {},
   "source": [
    "# P05: Functions\n",
    "* **Concepts**: abstraction, functions, scope, mutable/immutable\n",
    "* **Python functions**: writing, scope, pass by reference implications"
   ]
  },
  {
   "cell_type": "markdown",
   "metadata": {},
   "source": [
    "## Intro to functions \n",
    "\n",
    "A function is a re-usable piece of code that performs operations on a specified set of variables, and returns the result.\n",
    "* If you ever find yourself writing out (or copying/pasting) the same bit of code more than once, you should consider making it a function that you can call whenever you need to perform a given operation...\n",
    "* Saves a ton of time and reduces the chance of making an error\n",
    "\n",
    "**Modular Programming**\n",
    "\n",
    "Modular programming is an approach to programming that focuses on building programs from independent modules ('pieces').\n",
    "\n",
    "* defining a function\n",
    "    * `def`\n",
    "    * `return`\n",
    "    \n",
    "* executing a function\n",
    "    * parameters\n",
    "    * local and global namespaces"
   ]
  },
  {
   "cell_type": "markdown",
   "metadata": {},
   "source": [
    "## Functions for Modular Programming"
   ]
  },
  {
   "cell_type": "markdown",
   "metadata": {},
   "source": [
    "- Functions allow us to flexibly re-use pieces of code\n",
    "- Each function is independent of every other function, and other pieces of code\n",
    "- Functions are the building blocks of programs, and can be flexibly combined and executed in specified orders\n",
    "    - This allows us to build up arbitrarily complex, well-organized programs"
   ]
  },
  {
   "cell_type": "code",
   "execution_count": 14,
   "metadata": {
    "pycharm": {
     "name": "#%%\n"
    }
   },
   "outputs": [
    {
     "name": "stdout",
     "output_type": "stream",
     "text": [
      "[4, 5]\n"
     ]
    }
   ],
   "source": [
    "# you've seen functions before\n",
    "# recall that built in functions like print()\n",
    "# will turn green when you type them\n",
    "my_var = [3, 4, 5]\n",
    "\n",
    "# print the second item to the end\n",
    "print(my_var[1:])"
   ]
  },
  {
   "cell_type": "markdown",
   "metadata": {},
   "source": [
    "## Creating your own function\n",
    "\n",
    "* When you use `def` you are creating a **user-defined function**.\n",
    "* After `def` you give the function a name (something meaningful)\n",
    "* Then you have `()` where you can pass arguments into the function\n",
    "* These input arguments contain information that the function needs to produce the desired output\n",
    "* Remember to `return` the output of the function! Sometimes a function can modify an object **in place**, but far more often the function will do some operation and then you need to return the output of that operation so that you can use it elsewhere in your code\n",
    "* Remember to run the code cell that contains the function...if you don't run the code cell then it won't be available to call from other code cells in your code. "
   ]
  },
  {
   "cell_type": "code",
   "execution_count": 15,
   "metadata": {
    "pycharm": {
     "name": "#%%\n"
    }
   },
   "outputs": [],
   "source": [
    "# define a function named double_value\n",
    "# it will take a number and double the value\n",
    "# num is the input parameter for the function\n",
    "def double_value(num):\n",
    "\n",
    "    # double the value of num\n",
    "    doubled = num + num\n",
    "\n",
    "    # return output from function\n",
    "    # this is super important!\n",
    "    # if you don't return the value \n",
    "    # then nothing will actually \n",
    "    # happen\n",
    "    return doubled"
   ]
  },
  {
   "cell_type": "markdown",
   "metadata": {},
   "source": [
    "### Keyword arguments when excecuting a function \n",
    "* Note that built-in python functions turn green when you type them, but your custom made function will not\n",
    "* You can specify the input using **keyword** arguments where you explicitly assign the input argument by name (e.g. `double_value(num=6)` where you explicitly define `num=6`)"
   ]
  },
  {
   "cell_type": "code",
   "execution_count": 16,
   "metadata": {
    "pycharm": {
     "name": "#%%\n"
    }
   },
   "outputs": [
    {
     "data": {
      "text/plain": [
       "12"
      ]
     },
     "execution_count": 16,
     "metadata": {},
     "output_type": "execute_result"
    }
   ],
   "source": [
    "double_value(num=6)"
   ]
  },
  {
   "cell_type": "markdown",
   "metadata": {},
   "source": [
    "### Positional arguments when excecuting a function\n",
    "* You can also pass arguments by position (positional arguments) in which case the order of entry determines what values get assigned to each input argument. \n",
    "* Here we only have one argument (`num`) so there is no chance for confusion, but if you have multiple arguments in a more complex function then it is essential that you get the input order correct when using positional arguments and it is a good habit to use keyword arguments...more on this below"
   ]
  },
  {
   "cell_type": "code",
   "execution_count": null,
   "metadata": {
    "pycharm": {
     "name": "#%%\n"
    }
   },
   "outputs": [],
   "source": [
    "double_value(6)"
   ]
  },
  {
   "cell_type": "markdown",
   "metadata": {},
   "source": [
    "## Creating a function with multiple inputs\n",
    "* Something *slightly* more interesting than just adding a value with itself\n",
    "* This function will add two numbers together and then it will `return` the output\n",
    "* Note that it has two input arguments `num1` and `num2`\n",
    "* Remember to run the function so that you "
   ]
  },
  {
   "cell_type": "code",
   "execution_count": 17,
   "metadata": {
    "pycharm": {
     "name": "#%%\n"
    }
   },
   "outputs": [],
   "source": [
    "def add_two_numbers(num1, num2):\n",
    "\n",
    "    # Add the two input variables together\n",
    "    # and assign to the varible answer\n",
    "    answer = num1 + num2\n",
    "\n",
    "    # Return answer\n",
    "    return answer"
   ]
  },
  {
   "cell_type": "markdown",
   "metadata": {},
   "source": [
    "### Call the function using keyword arguments"
   ]
  },
  {
   "cell_type": "code",
   "execution_count": 18,
   "metadata": {
    "pycharm": {
     "name": "#%%\n"
    }
   },
   "outputs": [
    {
     "name": "stdout",
     "output_type": "stream",
     "text": [
      "3\n"
     ]
    }
   ],
   "source": [
    "output = add_two_numbers(num1=1, num2=2)\n",
    "print(output)"
   ]
  },
  {
   "cell_type": "markdown",
   "metadata": {},
   "source": [
    "### Call the function using positional arguments"
   ]
  },
  {
   "cell_type": "code",
   "execution_count": 20,
   "metadata": {
    "pycharm": {
     "name": "#%%\n"
    }
   },
   "outputs": [
    {
     "name": "stdout",
     "output_type": "stream",
     "text": [
      "3\n"
     ]
    }
   ],
   "source": [
    "output = add_two_numbers(-1, 4)\n",
    "print(output)"
   ]
  },
  {
   "cell_type": "markdown",
   "metadata": {},
   "source": [
    "## Positional vs. Keyword Arguments...be careful!\n",
    "* If you have multiple input arguments and you pass by position, then you have to get the order of the arguments correct...otherwise unexpected errors can happen (and they might not explicitly throw an error, so they can be hard to spot!)\n",
    "* Thus, if you have multiple input arguments it is good practice to pass by keyword instead of position\n",
    "* When passing by keyword, the order doesn't matter, so long as you have the correct keywords"
   ]
  },
  {
   "cell_type": "code",
   "execution_count": 4,
   "metadata": {},
   "outputs": [],
   "source": [
    "def exp(num, exponent):\n",
    "    return num ** exponent"
   ]
  },
  {
   "cell_type": "markdown",
   "metadata": {},
   "source": [
    "### Call by positional arguments: 2**3, so expected output is 8"
   ]
  },
  {
   "cell_type": "code",
   "execution_count": 2,
   "metadata": {
    "pycharm": {
     "name": "#%%\n"
    }
   },
   "outputs": [
    {
     "data": {
      "text/plain": [
       "8"
      ]
     },
     "execution_count": 2,
     "metadata": {},
     "output_type": "execute_result"
    }
   ],
   "source": [
    "exp(2, 3)"
   ]
  },
  {
   "cell_type": "markdown",
   "metadata": {},
   "source": [
    "### Call by keyword arguments: expected value is 8"
   ]
  },
  {
   "cell_type": "code",
   "execution_count": 5,
   "metadata": {
    "pycharm": {
     "name": "#%%\n"
    }
   },
   "outputs": [
    {
     "data": {
      "text/plain": [
       "8"
      ]
     },
     "execution_count": 5,
     "metadata": {},
     "output_type": "execute_result"
    }
   ],
   "source": [
    "exp(num=2, exponent=3)"
   ]
  },
  {
   "cell_type": "markdown",
   "metadata": {},
   "source": [
    "### Call by positional arguments: expected value is 8 but suppose you forgot that num comes first and exponent comes second...expected result is still 8 but you get 9 instead (i.e. 3**2 = 9)"
   ]
  },
  {
   "cell_type": "code",
   "execution_count": 6,
   "metadata": {},
   "outputs": [
    {
     "data": {
      "text/plain": [
       "9"
      ]
     },
     "execution_count": 6,
     "metadata": {},
     "output_type": "execute_result"
    }
   ],
   "source": [
    "exp(3, 2)"
   ]
  },
  {
   "cell_type": "markdown",
   "metadata": {},
   "source": [
    "### So even though its bad practice to flip the order of parameters, passing by keyword will save you and produce the expected result"
   ]
  },
  {
   "cell_type": "code",
   "execution_count": 7,
   "metadata": {
    "pycharm": {
     "name": "#%%\n"
    }
   },
   "outputs": [
    {
     "data": {
      "text/plain": [
       "8"
      ]
     },
     "execution_count": 7,
     "metadata": {},
     "output_type": "execute_result"
    }
   ],
   "source": [
    "exp(exponent=3, num=2)"
   ]
  },
  {
   "cell_type": "markdown",
   "metadata": {},
   "source": [
    "### Note: once you have a keyword argument, you can't have other positional arguments afterwards"
   ]
  },
  {
   "cell_type": "code",
   "execution_count": 8,
   "metadata": {
    "pycharm": {
     "name": "#%%\n"
    }
   },
   "outputs": [
    {
     "ename": "SyntaxError",
     "evalue": "positional argument follows keyword argument (4058479434.py, line 1)",
     "output_type": "error",
     "traceback": [
      "\u001b[0;36m  File \u001b[0;32m\"/var/folders/8y/scw4yk6d3g99kqbs49wp8q3r0000gn/T/ipykernel_7377/4058479434.py\"\u001b[0;36m, line \u001b[0;32m1\u001b[0m\n\u001b[0;31m    exp(num=2, 3)\u001b[0m\n\u001b[0m                ^\u001b[0m\n\u001b[0;31mSyntaxError\u001b[0m\u001b[0;31m:\u001b[0m positional argument follows keyword argument\n"
     ]
    }
   ],
   "source": [
    "exp(num=2, 3)"
   ]
  },
  {
   "cell_type": "markdown",
   "metadata": {},
   "source": [
    "## Setting a default value for parameters\n",
    "* You sometimes want to set a default value for a parameter...this is allowed during function **definition**"
   ]
  },
  {
   "cell_type": "code",
   "execution_count": 9,
   "metadata": {
    "pycharm": {
     "name": "#%%\n"
    }
   },
   "outputs": [],
   "source": [
    "def exp(num, exponent=2):\n",
    "    return num ** exponent"
   ]
  },
  {
   "cell_type": "markdown",
   "metadata": {},
   "source": [
    "## Multiple operations in a single function\n",
    "* We aren't limited to a single operation within a function. \n",
    "* Instead, we can use multiple operations and all of the concepts we've used previously (including loops and conditionals)."
   ]
  },
  {
   "cell_type": "code",
   "execution_count": 29,
   "metadata": {
    "pycharm": {
     "name": "#%%\n"
    }
   },
   "outputs": [],
   "source": [
    "# determine if a value is even or odd\n",
    "def even_odd(value):\n",
    "    if (value % 2 == 0):\n",
    "        out = \"even\"\n",
    "    else:\n",
    "        out = \"odd\"\n",
    "\n",
    "    return out"
   ]
  },
  {
   "cell_type": "code",
   "execution_count": 30,
   "metadata": {
    "pycharm": {
     "name": "#%%\n"
    }
   },
   "outputs": [
    {
     "data": {
      "text/plain": [
       "'odd'"
      ]
     },
     "execution_count": 30,
     "metadata": {},
     "output_type": "execute_result"
    }
   ],
   "source": [
    "# Execute our function\n",
    "even_odd(-1)"
   ]
  },
  {
   "cell_type": "markdown",
   "metadata": {},
   "source": [
    "With functions, the logic behind our code no longer requires it to be executed from top to bottom of the notebook.\n",
    "\n",
    "The cost of potential confusion is *definitely* offset by the benefits of writing functions and using modular code."
   ]
  },
  {
   "cell_type": "markdown",
   "metadata": {},
   "source": [
    "## Function Properties"
   ]
  },
  {
   "cell_type": "markdown",
   "metadata": {},
   "source": [
    "- Functions are defined using `def` followed by `:`, which opens a code-block that comprises the function\n",
    "    - Running code with a `def` block *defines* the function (but does not *execute* it)"
   ]
  },
  {
   "cell_type": "markdown",
   "metadata": {},
   "source": [
    "- Functions are *executed* using parentheses - `()`\n",
    "    - This is when the code inside a function is actually run"
   ]
  },
  {
   "cell_type": "markdown",
   "metadata": {},
   "source": [
    "- Inside a function, there is code that performs operations on the available variables"
   ]
  },
  {
   "cell_type": "markdown",
   "metadata": {},
   "source": [
    "- Functions use the special operator `return` to exit the function, passing out any specified variables"
   ]
  },
  {
   "cell_type": "markdown",
   "metadata": {},
   "source": [
    "- When you use a function, you can assign the output (whatever is `return`ed) to a variable"
   ]
  },
  {
   "cell_type": "markdown",
   "metadata": {},
   "source": [
    "## Global and local namespaces\n",
    "* Functions have their own namespace, called the **local namespace**, and they only have access to variables explicitly passed into them\n",
    "    * If a variable is declared or assigned inside of function, that variable only exists during the executation of the function.\n",
    "    * These local variables are not visible or usable outside of the function\n",
    "* In contrast, variables declared outside of a function are in the **global namespace**. This is what we've been doing thus far in the course, and global variables are accessible from anywhere in your notebook    \n",
    " \n"
   ]
  },
  {
   "cell_type": "code",
   "execution_count": 31,
   "metadata": {
    "pycharm": {
     "name": "#%%\n"
    }
   },
   "outputs": [
    {
     "name": "stdout",
     "output_type": "stream",
     "text": [
      "Variable                    Type        Data/Info\n",
      "-------------------------------------------------\n",
      "a                           str         hello\n",
      "add_two_numbers             function    <function add_two_numbers at 0x7ff960827d30>\n",
      "b                           str         hello\n",
      "change_var                  function    <function change_var at 0x7ff9608271f0>\n",
      "check_function_namespace    function    <function check_function_<...>espace at 0x7ff960806ee0>\n",
      "check_function_namespace2   function    <function check_function_<...>space2 at 0x7ff9608273a0>\n",
      "double_value                function    <function double_value at 0x7ff960827b80>\n",
      "even_odd                    function    <function even_odd at 0x7ff9512ba820>\n",
      "exp                         function    <function exp at 0x7ff9512ba940>\n",
      "my_var                      list        n=3\n",
      "output                      int         3\n"
     ]
    }
   ],
   "source": [
    "# Remember, you can check defined variables with `%whos`\n",
    "%whos"
   ]
  },
  {
   "cell_type": "markdown",
   "metadata": {},
   "source": [
    "### Names defined inside a function only exist within the function\n",
    "* In this example, we're using a function that has a **local** variable `x`"
   ]
  },
  {
   "cell_type": "code",
   "execution_count": 33,
   "metadata": {
    "pycharm": {
     "name": "#%%\n"
    }
   },
   "outputs": [],
   "source": [
    "# write a function that subtracts two numbers\n",
    "def sub(num1, num2):\n",
    "    \n",
    "    # assign the difference to the variable x\n",
    "    x = num1 - num2\n",
    "    \n",
    "    # return x\n",
    "    return x\n"
   ]
  },
  {
   "cell_type": "markdown",
   "metadata": {},
   "source": [
    "### Now let's define a variable `x` in a normal code cell\n",
    "* Since `x` is defined outside of a fucntion, it is a **global** variable that can be seen or accessed from any other regular code cell in our notebook\n",
    "* **Important** Even though we are using a variable `x` in our function, it will not overwrite or change the value of the global variable `x` because the local variable `x` only exists within the function"
   ]
  },
  {
   "cell_type": "code",
   "execution_count": 37,
   "metadata": {},
   "outputs": [
    {
     "name": "stdout",
     "output_type": "stream",
     "text": [
      "Output of the function is: -7\n",
      "Global variable x is unchanged: 10\n"
     ]
    }
   ],
   "source": [
    "# assign two integers - these are def\n",
    "x = 10\n",
    "y = 17\n",
    "\n",
    "# pass them into out 'sub' function\n",
    "d = sub(x, y)\n",
    "\n",
    "# d will be assigned the difference between x and y\n",
    "print(f'Output of the function is: {d}')\n",
    "\n",
    "# Note that when we print the value of our \n",
    "# global variable x it is unchanged even though \n",
    "# we also used a variable named x in our function\n",
    "print(f'Global variable x is unchanged: {x}')"
   ]
  },
  {
   "cell_type": "markdown",
   "metadata": {},
   "source": [
    "## Variable number of positional arguments\n",
    "\n",
    "You can specify a *variable* number of positional arguments to a function with the special `*` prefix:\n",
    "\n",
    "the function definition `def func(a, b, *args)` will assign the first (positional) argument to a, the second to b, and all the rest will be elements of the tuple `args`.\n"
   ]
  },
  {
   "cell_type": "code",
   "execution_count": 8,
   "metadata": {
    "pycharm": {
     "name": "#%%\n"
    }
   },
   "outputs": [
    {
     "name": "stdout",
     "output_type": "stream",
     "text": [
      "a 1\n",
      "b 2\n",
      "vars ()\n",
      "a 1\n",
      "b 2\n",
      "vars ('something else',)\n",
      "a 1\n",
      "b 2\n",
      "vars (3, 4, 'five!')\n"
     ]
    }
   ],
   "source": [
    "def myfunction(a, b, *args):\n",
    "    print('a', a)\n",
    "    print('b', b)\n",
    "    print('vars', args)\n",
    "\n",
    "myfunction(1, 2)\n",
    "\n",
    "myfunction(1, 2, 'something else')\n",
    "\n",
    "myfunction(1, 2, 3, 4, 'five!')"
   ]
  },
  {
   "cell_type": "markdown",
   "metadata": {},
   "source": [
    "## More useful examples using *args\n",
    "* square all elements of a set of numbers... "
   ]
  },
  {
   "cell_type": "code",
   "execution_count": 10,
   "metadata": {},
   "outputs": [],
   "source": [
    "def squ_nums(*args):\n",
    "    out = []\n",
    "    for i in args:\n",
    "        out.append(i**2)\n",
    "        \n",
    "    return out"
   ]
  },
  {
   "cell_type": "code",
   "execution_count": 14,
   "metadata": {},
   "outputs": [
    {
     "name": "stdout",
     "output_type": "stream",
     "text": [
      "[81, 100, 144]\n"
     ]
    }
   ],
   "source": [
    "print(squ_nums(9,10,12))"
   ]
  },
  {
   "cell_type": "markdown",
   "metadata": {},
   "source": [
    "### Find the max value of a set of numbers"
   ]
  },
  {
   "cell_type": "code",
   "execution_count": 17,
   "metadata": {},
   "outputs": [],
   "source": [
    "def my_max(*args):\n",
    "    \n",
    "    # check to make sure all elements are numbers\n",
    "    # if there are non-numerical values (like a string)\n",
    "    # then return a message to user letting them know\n",
    "    for i in args:\n",
    "        if not isinstance(i, int) and not isinstance(i, float):\n",
    "            return 'non numerical input'\n",
    "    \n",
    "    # start by assigning first input \n",
    "    # value to a variable that stores the \n",
    "    # max (m)\n",
    "    m = args[0]\n",
    "    \n",
    "    # then loop over all the remaining\n",
    "    # elements\n",
    "    for i in args[1:]:\n",
    "        # if the current element is \n",
    "        # bigger than the previous max\n",
    "        # then reassign\n",
    "        \n",
    "        if i > m: \n",
    "            m = i\n",
    "            \n",
    "    return m"
   ]
  },
  {
   "cell_type": "code",
   "execution_count": 20,
   "metadata": {},
   "outputs": [
    {
     "data": {
      "text/plain": [
       "100"
      ]
     },
     "execution_count": 20,
     "metadata": {},
     "output_type": "execute_result"
    }
   ],
   "source": [
    "my_max(0,7,100,2.0)"
   ]
  },
  {
   "cell_type": "code",
   "execution_count": 19,
   "metadata": {},
   "outputs": [
    {
     "data": {
      "text/plain": [
       "'non int input'"
      ]
     },
     "execution_count": 19,
     "metadata": {},
     "output_type": "execute_result"
    }
   ],
   "source": [
    "my_max(0,7,100,'2.0')"
   ]
  },
  {
   "cell_type": "markdown",
   "metadata": {},
   "source": [
    "## Variable number of keyword arguments\n",
    "* You can specify a *variable* number of keyword arguments to a function with the special `**` prefix:\n",
    "* The function definition `def func(a, b, **kwargs)` will assign the first (positional) argument to a, the second to b, and all the rest will be elements of the dictionary `kwargs`.\n",
    "* **Important**: You need to the keyword argument notation that we covered above (e.g. variable_name = value)"
   ]
  },
  {
   "cell_type": "code",
   "execution_count": 15,
   "metadata": {
    "pycharm": {
     "name": "#%%\n"
    }
   },
   "outputs": [
    {
     "name": "stdout",
     "output_type": "stream",
     "text": [
      "a 1\n",
      "b 2\n",
      "kwargs {}\n",
      "a 1\n",
      "b 2\n",
      "kwargs {'x': 4, 'y': 5, 'z': 6}\n"
     ]
    },
    {
     "ename": "TypeError",
     "evalue": "myfunction() takes 2 positional arguments but 3 were given",
     "output_type": "error",
     "traceback": [
      "\u001b[0;31m---------------------------------------------------------------------------\u001b[0m",
      "\u001b[0;31mTypeError\u001b[0m                                 Traceback (most recent call last)",
      "\u001b[0;32m/var/folders/8y/scw4yk6d3g99kqbs49wp8q3r0000gn/T/ipykernel_21301/2915692804.py\u001b[0m in \u001b[0;36m<module>\u001b[0;34m\u001b[0m\n\u001b[1;32m     14\u001b[0m \u001b[0;31m# but notice that **kwargs does not capture positional arguments!\u001b[0m\u001b[0;34m\u001b[0m\u001b[0;34m\u001b[0m\u001b[0m\n\u001b[1;32m     15\u001b[0m \u001b[0;31m# you have to assign by keyword\u001b[0m\u001b[0;34m\u001b[0m\u001b[0;34m\u001b[0m\u001b[0m\n\u001b[0;32m---> 16\u001b[0;31m \u001b[0mmyfunction\u001b[0m\u001b[0;34m(\u001b[0m\u001b[0;36m1\u001b[0m\u001b[0;34m,\u001b[0m \u001b[0;36m2\u001b[0m\u001b[0;34m,\u001b[0m \u001b[0;36m3\u001b[0m\u001b[0;34m)\u001b[0m\u001b[0;34m\u001b[0m\u001b[0;34m\u001b[0m\u001b[0m\n\u001b[0m",
      "\u001b[0;31mTypeError\u001b[0m: myfunction() takes 2 positional arguments but 3 were given"
     ]
    }
   ],
   "source": [
    "def myfunction(a, b, **kwargs):\n",
    "    print('a', a)\n",
    "    print('b', b)\n",
    "    print('kwargs', kwargs)\n",
    "\n",
    "# omitting the kwargs are ok...\n",
    "myfunction(1, 2)\n",
    "\n",
    "# here is a version with two positional \n",
    "# arguments and three keyword arguments \n",
    "\n",
    "myfunction(1, 2, x=4, y=5, z=6)\n",
    "\n",
    "# but notice that **kwargs does not capture positional arguments!\n",
    "# you have to assign by keyword\n",
    "myfunction(1, 2, 3)"
   ]
  },
  {
   "cell_type": "markdown",
   "metadata": {
    "pycharm": {
     "name": "#%% md\n"
    }
   },
   "source": [
    "### Note that this definition captures all the positional arguments first, then captures the remaining keyword arguments.  For this reason there may be no positional arguments after a keyword argument."
   ]
  },
  {
   "cell_type": "code",
   "execution_count": null,
   "metadata": {
    "pycharm": {
     "name": "#%%\n"
    }
   },
   "outputs": [],
   "source": [
    "myfunction(1, 2, 3, x=4, y=5, z=6, 7)"
   ]
  },
  {
   "cell_type": "markdown",
   "metadata": {},
   "source": [
    "## A more useful example of **kwargs\n",
    "* Imagine you run a bike shop or some other store.\n",
    "* You want to collect as much information as possible about each customer, but some people don't share much and others share a lot of stuff...\n",
    "* Pass all of the user input into a function that creates a dictionary with all provided information. \n",
    "* If you use **kwargs** then you can flexibly accomodate different amounts of info about each user. \n",
    "* Also introduce **docstrings** where you can write helper info about your function so that others can quickly figure out what the function does, what kinds of input you're expecting, and what the function returns. "
   ]
  },
  {
   "cell_type": "code",
   "execution_count": 21,
   "metadata": {},
   "outputs": [],
   "source": [
    "def define_user(name, **info):\n",
    "    \"\"\"Accept user input for database\n",
    "\n",
    "    input: \n",
    "    \n",
    "        name - first name of user\n",
    "        **info - kwargs...other relevant info in form of key:value pairs\n",
    "\n",
    "    returns:\n",
    "    \n",
    "        dictionary with user info\n",
    "    \"\"\"\n",
    "\n",
    "    # init a blank dictionary\n",
    "    user_info = {}\n",
    "\n",
    "    user_info['name'] = name\n",
    "\n",
    "    # then loop over kwargs\n",
    "    for k, v in info.items():\n",
    "        user_info[k] = v\n",
    "\n",
    "    return user_info"
   ]
  },
  {
   "cell_type": "code",
   "execution_count": 22,
   "metadata": {},
   "outputs": [],
   "source": [
    "# see the docstring so we know how to use the function\n",
    "# define_user?"
   ]
  },
  {
   "cell_type": "code",
   "execution_count": 4,
   "metadata": {},
   "outputs": [
    {
     "data": {
      "text/plain": [
       "{'name': 'john',\n",
       " 'bike': 'aethos',\n",
       " 'car': 'tacoma',\n",
       " 'address': '24895 Long Valley Rd'}"
      ]
     },
     "execution_count": 4,
     "metadata": {},
     "output_type": "execute_result"
    }
   ],
   "source": [
    "usr_info = define_user('john', bike='aethos', car='tacoma', address='24895 Long Valley Rd')\n",
    "usr_info"
   ]
  },
  {
   "cell_type": "markdown",
   "metadata": {},
   "source": [
    "## Example of abstracting a common operation into a function\n",
    "* Recall last week we wrote some code to find a string of text in a book and then we kept N lines of text following the target string\n",
    "* Using functions, we can write a general purpose block of code that will take a target string and the number of lines to keep as input parameters. Now we can apply this function to any book and it will do this job for us. "
   ]
  },
  {
   "cell_type": "code",
   "execution_count": 1,
   "metadata": {},
   "outputs": [],
   "source": [
    "def find_str(book,search_target,keep_lines):\n",
    "\n",
    "    # loop over each line in the book using enumerate\n",
    "    # enumerate will automatically create and increment a counter \n",
    "    # that we'll call 'cnt' and it will give you each line\n",
    "    # in the book just like a normal for loop. \n",
    "    for cnt, line in enumerate(book):\n",
    "\n",
    "        # test to see if the current line has search_target in it\n",
    "        if search_target in line:\n",
    "            # grab the line where chapter 5 starts\n",
    "            start_index = cnt\n",
    "\n",
    "            # exit the loop by calling 'break'\n",
    "            break\n",
    "\n",
    "    # now use slicing to just keep the first keep_lines lines \n",
    "    # after the search_target\n",
    "    book = book[start_index:start_index + keep_lines]\n",
    "\n",
    "    return book"
   ]
  },
  {
   "cell_type": "markdown",
   "metadata": {},
   "source": [
    "### Now we can call the function...\n",
    "* And the key thing here is that this should work for **any** book or list object with strings of text as elements...i.e. it is now a general purpose function and we don't have to type that code again!"
   ]
  },
  {
   "cell_type": "code",
   "execution_count": 2,
   "metadata": {},
   "outputs": [
    {
     "name": "stdout",
     "output_type": "stream",
     "text": [
      "['It was on a dreary night of November that I beheld the accomplishment\\n', 'of my toils. With an anxiety that almost amounted to agony, I\\n', 'collected the instruments of life around me, that I might infuse a\\n', 'spark of being into the lifeless thing that lay at my feet. It was\\n', 'already one in the morning; the rain pattered dismally against the\\n', 'panes, and my candle was nearly burnt out, when, by the glimmer of the\\n', 'half-extinguished light, I saw the dull yellow eye of the creature\\n', 'open; it breathed hard, and a convulsive motion agitated its limbs.\\n', '\\n', 'How can I describe my emotions at this catastrophe, or how delineate\\n']\n"
     ]
    }
   ],
   "source": [
    "# open our file for reading...\n",
    "with open('frankenstein.txt', 'r') as f:\n",
    "    # read the entire file...with each line \n",
    "    # returned as a string in a list\n",
    "    # we'll call the list 'book'\n",
    "    book = f.readlines()\n",
    "    \n",
    "# now call the function...\n",
    "book_trimmed = find_str(book, 'It was on a dreary night', 10)\n",
    "\n",
    "print(book_trimmed)"
   ]
  },
  {
   "cell_type": "markdown",
   "metadata": {
    "pycharm": {
     "name": "#%% md\n"
    }
   },
   "source": [
    "\n",
    "## Functions: Review\n",
    "\n",
    "1. `def` defines a function\n",
    "2. `function_name()` - parentheses are required to execute a function\n",
    "3. `function_name(input1)` - input parameters are specified within the function parentheses\n",
    "4. `function_name(input1, input2)` - functions can take multiple parameters as inputs\n",
    "    - `input1` and `input2` can then be used within your function when it executes\n",
    "5. To store the output from a function, you'll need a `return` statement\n",
    "6. Local variables exist only within the scope of a function and cannot be accessed outside of the function\n",
    "7. Global variables exist outside the scope of a function and can be seen in all code cells in the notebook\n",
    "8. A variable number of positional or keyword arguments can be passed using the `*` and `**` syntax"
   ]
  },
  {
   "cell_type": "markdown",
   "metadata": {},
   "source": [
    "## More advanced stuff - not covered in class but useful to read"
   ]
  },
  {
   "cell_type": "markdown",
   "metadata": {
    "pycharm": {
     "name": "#%% md\n"
    }
   },
   "source": [
    "### The catch-all function\n",
    "* Because you can pass in a variable number of parameters by position (`*`) or by keyword (`**`) you **could** write a function that would take just about anything as input (see below)\n",
    "* But please don't do this - it will drive people crazy because they won't know what kind of input the function expects, and it is almost always better to have well defined functions with a specific *signature*."
   ]
  },
  {
   "cell_type": "code",
   "execution_count": 10,
   "metadata": {
    "pycharm": {
     "name": "#%%\n"
    }
   },
   "outputs": [
    {
     "name": "stdout",
     "output_type": "stream",
     "text": [
      "args ()\n",
      "kwargs {}\n",
      "args (1, 2)\n",
      "kwargs {'x': 4, 'y': 5, 'z': 6}\n",
      "args (1, 2, 3)\n",
      "kwargs {}\n",
      "args (1, 2, 3)\n",
      "kwargs {'x': 4, 'y': 5, 'z': 6}\n"
     ]
    }
   ],
   "source": [
    "def myfunction(*args, **kwargs):\n",
    "    print('args', args)\n",
    "    print('kwargs',kwargs)\n",
    "\n",
    "\n",
    "print('\\nmyfunction()')\n",
    "myfunction()\n",
    "\n",
    "print('\\nmyfunction(1, 2, x=4, y=5, z=6)')\n",
    "myfunction(1, 2, x=4, y=5, z=6)\n",
    "\n",
    "print('\\nmyfunction(1, 2, 3)')\n",
    "myfunction(1, 2, 3)\n",
    "\n",
    "print('\\nmyfunction(1, 2, 3, x=4, y=5, z=6)')\n",
    "myfunction(1, 2, 3, x=4, y=5, z=6)"
   ]
  },
  {
   "cell_type": "markdown",
   "metadata": {},
   "source": [
    "### Calling functions within other functions\n",
    "* Suppose we wrote a function called `is_odd()` which takes an input `value`,"
   ]
  },
  {
   "cell_type": "code",
   "execution_count": 38,
   "metadata": {
    "pycharm": {
     "name": "#%%\n"
    }
   },
   "outputs": [],
   "source": [
    "def is_odd(value):\n",
    "    if value % 2 != 0:\n",
    "        answer = True\n",
    "    else:\n",
    "        answer = False\n",
    "\n",
    "    return answer"
   ]
  },
  {
   "cell_type": "markdown",
   "metadata": {},
   "source": [
    "To use the function, we can execute `is_odd(value)`"
   ]
  },
  {
   "cell_type": "code",
   "execution_count": 39,
   "metadata": {
    "pycharm": {
     "name": "#%%\n"
    }
   },
   "outputs": [
    {
     "data": {
      "text/plain": [
       "False"
      ]
     },
     "execution_count": 39,
     "metadata": {},
     "output_type": "execute_result"
    }
   ],
   "source": [
    "out = is_odd(6)\n",
    "out"
   ]
  },
  {
   "cell_type": "markdown",
   "metadata": {},
   "source": [
    "Later on, if you wanted to use that function _within another function_ you still have to pass an input to the function."
   ]
  },
  {
   "cell_type": "code",
   "execution_count": 42,
   "metadata": {
    "pycharm": {
     "name": "#%%\n"
    }
   },
   "outputs": [],
   "source": [
    "def new_function(my_list):\n",
    "    output = []\n",
    "    for val in my_list:\n",
    "        # here we can call our other function `is_odd`\n",
    "        if is_odd(val):\n",
    "            output.append('yay!')\n",
    "    return output"
   ]
  },
  {
   "cell_type": "code",
   "execution_count": 41,
   "metadata": {
    "pycharm": {
     "name": "#%%\n"
    }
   },
   "outputs": [
    {
     "data": {
      "text/plain": [
       "['yay!', 'yay!']"
      ]
     },
     "execution_count": 41,
     "metadata": {},
     "output_type": "execute_result"
    }
   ],
   "source": [
    "new_function([1,2,3,4])"
   ]
  },
  {
   "cell_type": "markdown",
   "metadata": {
    "pycharm": {
     "name": "#%% md\n"
    }
   },
   "source": [
    "### Note about function signatures and type annotation\n",
    "\n",
    "Although it is possible to define all functions as a catchall function: `def f(*args, **kwargs):` that would be terrible in practice, because then it is nearly impossible to figure out what kind of input the function expects.  Consequently you ought to define functions in the most restrictive manner possible.  If you expect one argument, define the function accordingly.\n",
    "\n",
    "In Python you can also add type **annotations** to your function definitions.  These are not used directly by the python interpreter, but are often used by the IDE to help you write code.  This is also good practice as it makes it clear what kind of arguments your function expects and returns.\n"
   ]
  },
  {
   "cell_type": "code",
   "execution_count": null,
   "metadata": {
    "pycharm": {
     "name": "#%%\n"
    }
   },
   "outputs": [],
   "source": [
    "def transformString(string: str) -> str:\n",
    "    return string.lower()"
   ]
  },
  {
   "cell_type": "markdown",
   "metadata": {},
   "source": [
    "### More formal explanation of local/global namespaces \n",
    "* Variables in python are passed to functions by *assignment*.\n",
    "* Recall that we can assign two names to the same object:"
   ]
  },
  {
   "cell_type": "code",
   "execution_count": 19,
   "metadata": {
    "pycharm": {
     "name": "#%%\n"
    }
   },
   "outputs": [
    {
     "name": "stdout",
     "output_type": "stream",
     "text": [
      "140708781756528\n",
      "140708781756528\n"
     ]
    }
   ],
   "source": [
    "a = 'hello'\n",
    "b = a         # b takes on the value of a\n",
    "\n",
    "# since they are both referring to the same \n",
    "# value ('hello') they have the same id...\n",
    "# we can also say that they b is a `view` of a...\n",
    "print(id(a))\n",
    "print(id(b))"
   ]
  },
  {
   "cell_type": "markdown",
   "metadata": {
    "pycharm": {
     "name": "#%% md\n"
    }
   },
   "source": [
    "when we pass something to a function, we are effectively assigning a new (local) name to that same object."
   ]
  },
  {
   "cell_type": "code",
   "execution_count": 11,
   "metadata": {
    "pycharm": {
     "name": "#%%\n"
    }
   },
   "outputs": [
    {
     "name": "stdout",
     "output_type": "stream",
     "text": [
      "140448540717168\n",
      "140448540717168\n"
     ]
    }
   ],
   "source": [
    "def func(x):\n",
    "    print(id(x))\n",
    "a = \"hello\"\n",
    "print(id(a))\n",
    "func(a)"
   ]
  },
  {
   "cell_type": "markdown",
   "metadata": {},
   "source": [
    "This is nice, because we don't have to allocate more memory to store a *copy* of that object when we pass it into a function.  However, weird things might happen, depending on what we do to that object.\n"
   ]
  },
  {
   "cell_type": "code",
   "execution_count": 13,
   "metadata": {
    "pycharm": {
     "name": "#%%\n"
    }
   },
   "outputs": [
    {
     "name": "stdout",
     "output_type": "stream",
     "text": [
      "a: hello\n",
      "id of a globally 140448540717168\n",
      "enter function\n",
      "    x: hello\n",
      "    id(x) 140448540717168\n",
      "    x: boo\n",
      "    id(x) 140448118475760\n",
      "exit function\n",
      "a: hello\n",
      "id of a globally 140448540717168\n"
     ]
    }
   ],
   "source": [
    "def func(x):\n",
    "    print('enter function')\n",
    "    print('    x:', x)\n",
    "    print('    id(x)', id(x))\n",
    "    x = 'boo'\n",
    "    print('    x:', x)\n",
    "    print('    id(x)', id(x))\n",
    "    print('exit function')\n",
    "\n",
    "a = \"hello\"\n",
    "print('a:', a)\n",
    "print('id of a globally', id(a))\n",
    "func(a)\n",
    "print('a:', a)\n",
    "print('id of a globally', id(a))"
   ]
  },
  {
   "cell_type": "markdown",
   "metadata": {},
   "source": [
    "* So what happened here is that `x` inside the function started off pointing to the same object as `a` globally, but then, when we reassigned a new string to `x`, these two variables pointed to different objects, and the local changes to `x` did not alter the object referred to by the global name `a`.\n",
    "\n",
    "* This happens because we *reasigned* a value to `x`.  \n",
    "\n",
    "* However, some objects we can alter in place, and as a consequence, local changes will also carry over to the global variable."
   ]
  },
  {
   "cell_type": "code",
   "execution_count": 14,
   "metadata": {
    "pycharm": {
     "name": "#%%\n"
    }
   },
   "outputs": [
    {
     "name": "stdout",
     "output_type": "stream",
     "text": [
      "a: ['hello']\n",
      "id of a globally 140448537863552\n",
      "enter function\n",
      "    x: ['hello']\n",
      "    id(x) 140448537863552\n",
      "    x: ['hello', 'boo']\n",
      "    id(x) 140448537863552\n",
      "exit function\n",
      "a: ['hello', 'boo']\n",
      "id of a globally 140448537863552\n"
     ]
    }
   ],
   "source": [
    "def func(x):\n",
    "    print('enter function')\n",
    "    print('    x:', x)\n",
    "    print('    id(x)', id(x))\n",
    "    x.append('boo')\n",
    "    print('    x:', x)\n",
    "    print('    id(x)', id(x))\n",
    "    print('exit function')\n",
    "\n",
    "a = [\"hello\"]\n",
    "print('a:', a)\n",
    "print('id of a globally', id(a))\n",
    "func(a)\n",
    "print('a:', a)\n",
    "print('id of a globally', id(a))"
   ]
  },
  {
   "cell_type": "markdown",
   "metadata": {
    "pycharm": {
     "name": "#%% md\n"
    }
   },
   "source": [
    "Here, we used a list variable, which is *mutable*, and we called a method of that object that mutates that variable in place.  The consequence is that we changed the object, that the global and local variables pointed to, and the changes we made inside the function persisted outside the function.\n",
    "\n",
    "If we instead changed the variable inside the function via reassignment, then those changes would stay local.  (This is a case in which `x += [a]` behaves differently from `x = x + [a]` because the `+=` operator uses an inplace method to append)."
   ]
  },
  {
   "cell_type": "code",
   "execution_count": 16,
   "metadata": {
    "pycharm": {
     "name": "#%%\n"
    }
   },
   "outputs": [
    {
     "name": "stdout",
     "output_type": "stream",
     "text": [
      "a: ['hello']\n",
      "id of a globally 140447990865088\n",
      "enter function\n",
      "    x: ['hello']\n",
      "    id(x) 140447990865088\n",
      "    x: ['hello', 'boo']\n",
      "    id(x) 140448537862912\n",
      "exit function\n",
      "a: ['hello']\n",
      "id of a globally 140447990865088\n"
     ]
    }
   ],
   "source": [
    "def func(x):\n",
    "    print('enter function')\n",
    "    print('    x:', x)\n",
    "    print('    id(x)', id(x))\n",
    "    x = x + ['boo']\n",
    "    print('    x:', x)\n",
    "    print('    id(x)', id(x))\n",
    "    print('exit function')\n",
    "\n",
    "a = [\"hello\"]\n",
    "print('a:', a)\n",
    "print('id of a globally', id(a))\n",
    "func(a)\n",
    "print('a:', a)\n",
    "print('id of a globally', id(a))"
   ]
  }
 ],
 "metadata": {
  "kernelspec": {
   "display_name": "Python 3 (ipykernel)",
   "language": "python",
   "name": "python3"
  },
  "language_info": {
   "codemirror_mode": {
    "name": "ipython",
    "version": 3
   },
   "file_extension": ".py",
   "mimetype": "text/x-python",
   "name": "python",
   "nbconvert_exporter": "python",
   "pygments_lexer": "ipython3",
   "version": "3.9.7"
  }
 },
 "nbformat": 4,
 "nbformat_minor": 1
}
