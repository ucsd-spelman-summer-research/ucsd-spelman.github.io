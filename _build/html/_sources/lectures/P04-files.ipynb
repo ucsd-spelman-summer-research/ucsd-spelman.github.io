{
 "cells": [
  {
   "cell_type": "markdown",
   "metadata": {},
   "source": [
    "# P04: Reading and writing files\n",
    "- **Python files**: open, close, with open as fp\n",
    "\n",
    "\n",
    "## Reading files\n",
    "\n",
    "### Finding a file\n",
    "\n",
    "- Files are stored somewhere in your computer systems hard drive or storage area.\n",
    "\n",
    "- That location is specified via a file **path**.\n",
    "\n",
    "- A file path encodes the location of the file within the directory structure on the computer.\n",
    "\n",
    "- *Absolute* file paths encode the location of the file relative to the root, or base directory of the file system.  So let's say we have a file named `filename.ext` located in `folder2`, which is located inside `jserences`, which is inside `Users`, which is in the base (root) directory of the file system.  On a unix machine (such as Mac OS, Linux, etc.) this location is encoded as follows `/Users/jserences/folder2/filename.ext` where the slashes (`/`) indicates directories or folders. Windows machines use the forward slash `\\`, so that path would look something like `C:\\Users\\jserences\\folder2\\filename.ext`.\n",
    "\n",
    "- *Relative* file paths encode the location of the file relative to the current location or path, where the program is running. So if a program has been launched in the folder `/Users/jserences/programs/`, then the relative path to `/Users/jserences/folder2/filename.ext` would involve going up one directory in the file tree using the `..` syntax, then down into `folder2` and getting `filename.ext`.  The full relative path would be `../folder2/filename.ext`.  The key part here is that `..` move you up one level in the directory tree **relative** to the the current working directory. Basically `..` is like pressing the `back` arrow on a 'Finder' window when you're moving around using the mouse and the windows provided by your operating system.\n",
    "\n",
    "### Opening a file\n",
    "\n",
    "- Files are accessed via the `open(file, mode)` command, specifying the (relative or absolute) path to the  file, and the mode with which you want to open it ('r' for read, 'w' for write, 'a' for append, there are [more](https://docs.python.org/3/library/functions.html#open)).\n",
    "\n",
    "- Opening a file creates a file object which can be read from (or written to, or appended to, depending on what mode you used to open it).  \n",
    "    - Assuming we are dealing with text files, `file.read()` reads the entire content of the file as one string. \n",
    "    - `file.readlines()` reads the entire content of the file as a list of strings, with each element corresponding to one line in the text file.  \n",
    "    - `file.readline()` reads one line at a time, and is helpful if your file is large, and you do not want to load its entirety into memory.\n",
    "\n",
    "- When you open a file, your operating system is notified that some program is doing something to that file, and it will prevent other changes from being made to that file. Consequently, it is important that you *close* the file after opening it.  In Python, the easiest way to make this that this is done without errors is via the `with` keyword, that creates a temporary context in which the file is open, and then closes the file as soon as all the operations that need to be carried out on the file are completed. Bad things can happen if you do not close the file, so make sure you're careful with this (the file might get corrupted, you might find that nothing was written to the file, etc). "
   ]
  },
  {
   "cell_type": "markdown",
   "metadata": {},
   "source": [
    "## File Paths"
   ]
  },
  {
   "cell_type": "markdown",
   "metadata": {},
   "source": [
    "The specific location of a file or folder on your computer."
   ]
  },
  {
   "cell_type": "markdown",
   "metadata": {},
   "source": [
    "When using a Graphical User Interface (GUI), you click on directories to access subdirectories and finally find the file you're interested in."
   ]
  },
  {
   "cell_type": "markdown",
   "metadata": {},
   "source": [
    "When using the command line, you specify a file's path explicitly with text."
   ]
  },
  {
   "cell_type": "markdown",
   "metadata": {},
   "source": [
    "### Absolute vs. Relative Paths\n",
    "\n",
    "The two ways to specify the path to your file of interest allow for flexibility in programming."
   ]
  },
  {
   "cell_type": "markdown",
   "metadata": {},
   "source": [
    "#### Absolute Paths"
   ]
  },
  {
   "cell_type": "markdown",
   "metadata": {},
   "source": [
    "Absolute paths specify the full path for a given file system (starting from the root directory)."
   ]
  },
  {
   "cell_type": "markdown",
   "metadata": {},
   "source": [
    "**root** specifies the 'highest' directory in the file structure (the start).\n",
    "\n",
    "An absolute file path starts with a slash `/` specifying the root directory.\n"
   ]
  },
  {
   "cell_type": "code",
   "execution_count": null,
   "metadata": {
    "pycharm": {
     "name": "#%%\n"
    }
   },
   "outputs": [],
   "source": [
    "## absolute path\n",
    "## this is specific to my computer\n",
    "## look at the path output above for you computer\n",
    "%ls '/Users/johnserences/Dropbox/My Papers/Editorial/'"
   ]
  },
  {
   "cell_type": "markdown",
   "metadata": {},
   "source": [
    "#### Relative Paths"
   ]
  },
  {
   "cell_type": "markdown",
   "metadata": {},
   "source": [
    "**Relative paths** specify the path to a file from your **current working directory** (where your computer is working right now).\n"
   ]
  },
  {
   "cell_type": "code",
   "execution_count": null,
   "metadata": {
    "pycharm": {
     "name": "#%%\n"
    }
   },
   "outputs": [],
   "source": [
    "# remind us of our current working directory\n",
    "%pwd"
   ]
  },
  {
   "cell_type": "code",
   "execution_count": null,
   "metadata": {
    "pycharm": {
     "name": "#%%\n"
    }
   },
   "outputs": [],
   "source": [
    "# relative path\n",
    "# this is specific to my computer\n",
    "%ls ../../Lectures"
   ]
  },
  {
   "cell_type": "markdown",
   "metadata": {},
   "source": [
    "- `..` specify you want to move one directory up in your hierarchy - here I am moving up two levels with the `../../` syntax\n",
    "- `Lectures` specifies the path to the directory I want to list files in\n",
    "- each directory is separated with a slash (`/`)"
   ]
  },
  {
   "cell_type": "markdown",
   "metadata": {},
   "source": [
    "This **relative** path does _not_ start with a leading slash (b/c it's not an absolute path)."
   ]
  },
  {
   "cell_type": "markdown",
   "metadata": {},
   "source": [
    "## Opening and interacting with files!\n",
    "* Using the `with` method of opening files will ensure that they are closed properly when you are done with them...\n",
    "* This will create a file object `f` (although you can name it whatever you'd like)\n",
    "* You can then use the file object `f` to write stuff to the file using `f.write()`"
   ]
  },
  {
   "cell_type": "markdown",
   "metadata": {},
   "source": [
    "### Open a file for writing, and just write some text to it using the f-string method we learned last time..."
   ]
  },
  {
   "cell_type": "code",
   "execution_count": null,
   "metadata": {
    "pycharm": {
     "name": "#%%\n"
    }
   },
   "outputs": [],
   "source": [
    "with open('test.txt', 'w') as f:\n",
    "    for i in range(0, 11):\n",
    "        # include the \\n newline character.\n",
    "        # its like pressing the `enter` key at the end of each line\n",
    "        f.write(f'This is the {i}th line of the file\\n')"
   ]
  },
  {
   "cell_type": "markdown",
   "metadata": {},
   "source": [
    "Note the escape sequence `'\\n'` in the strings -- these are the *newline* escape character, and is how we encode line breaks inside strings."
   ]
  },
  {
   "cell_type": "markdown",
   "metadata": {},
   "source": [
    "### You can use the built in magic `%pycat` to view the contents of the file. "
   ]
  },
  {
   "cell_type": "code",
   "execution_count": null,
   "metadata": {},
   "outputs": [],
   "source": [
    "%pycat test.txt"
   ]
  },
  {
   "cell_type": "markdown",
   "metadata": {},
   "source": [
    "### Open a file for reading...\n",
    "* `f.read()` will read in a fixed number of elements...where `f.read(x)` will read in `x` elements\n",
    "* if not parameters are passed to `f.read()` then it will read the entire file! be careful with this if you're dealing with super big files!\n",
    "* `f.readline()` will read in one line at a time (and it knows how to find the end of each line because its looking for the the `\\n` newline escape character...that's why it is so important to include the `\\n` in your files when you write them...makes it way easier to deal with when reading the data back in. \n",
    "* `f.readlines()` will read in the entire file and will store each line as a string that is an entry in a list..."
   ]
  },
  {
   "cell_type": "markdown",
   "metadata": {},
   "source": [
    "#### `f.read()`"
   ]
  },
  {
   "cell_type": "code",
   "execution_count": null,
   "metadata": {},
   "outputs": [],
   "source": [
    "# open our file for reading...\n",
    "with open('test.txt', 'r') as f:\n",
    "    # read the entire file...\n",
    "    out = f.read()\n",
    "    \n",
    "# print it out\n",
    "print(out)"
   ]
  },
  {
   "cell_type": "markdown",
   "metadata": {},
   "source": [
    "#### This time use `f.read() but specify a fixed number of elements to read (instead of the entire file). "
   ]
  },
  {
   "cell_type": "code",
   "execution_count": null,
   "metadata": {},
   "outputs": [],
   "source": [
    "# make a variable to determine how many elements to read.\n",
    "num_elements_to_read = 10\n",
    "\n",
    "# open our file for reading...\n",
    "with open('test.txt', 'r') as f:\n",
    "    # This time just read in a set number of elements\n",
    "    out = f.read(num_elements_to_read)\n",
    "    \n",
    "# print it out - note that there are \n",
    "# num_elements_to_read characters (including spaces)\n",
    "print(out)"
   ]
  },
  {
   "cell_type": "markdown",
   "metadata": {},
   "source": [
    "### `f.readline` - read one line"
   ]
  },
  {
   "cell_type": "code",
   "execution_count": null,
   "metadata": {},
   "outputs": [],
   "source": [
    "# open our file for reading...\n",
    "with open('test.txt', 'r') as f:\n",
    "    # read a line from the file\n",
    "    out = f.readline()\n",
    "    \n",
    "# print it out\n",
    "print(out)"
   ]
  },
  {
   "cell_type": "markdown",
   "metadata": {},
   "source": [
    "#### Side note, but sorta related to `f.readline()`...if you want to loop over lines, one at a time, use a for loop like this:"
   ]
  },
  {
   "cell_type": "code",
   "execution_count": null,
   "metadata": {},
   "outputs": [],
   "source": [
    "# open our file for reading...\n",
    "with open('test.txt', 'r') as f:\n",
    "    # read in line by line...\n",
    "    for line in f:\n",
    "        print(line, end=\"\")\n",
    "        # end = \"\" tells the `print` statement not to end each \n",
    "        # line with a '\\n' because there is already a '\\n' character\n",
    "        # at the end of each line because that is how we wrote it out...\n"
   ]
  },
  {
   "cell_type": "markdown",
   "metadata": {},
   "source": [
    "### `f.readlines()` - read entire file into a list of strings, where each string is a line from the file. "
   ]
  },
  {
   "cell_type": "code",
   "execution_count": null,
   "metadata": {},
   "outputs": [],
   "source": [
    "# open our file for reading...\n",
    "with open('test.txt', 'r') as f:\n",
    "    # read the entire file...with each line \n",
    "    # returned as a string in a list\n",
    "    out = f.readlines()\n",
    "    \n",
    "# print the list of strings\n",
    "print(out)\n",
    "\n",
    "# because `out` is now a list, \n",
    "# you can index/slice to find specific \n",
    "# elements\n",
    "print('\\nSlicing the list to grab a subset of the strings...\\n')\n",
    "print(out[2:4])"
   ]
  }
 ],
 "metadata": {
  "kernelspec": {
   "display_name": "Python 3 (ipykernel)",
   "language": "python",
   "name": "python3"
  },
  "language_info": {
   "codemirror_mode": {
    "name": "ipython",
    "version": 3
   },
   "file_extension": ".py",
   "mimetype": "text/x-python",
   "name": "python",
   "nbconvert_exporter": "python",
   "pygments_lexer": "ipython3",
   "version": "3.9.7"
  }
 },
 "nbformat": 4,
 "nbformat_minor": 1
}
