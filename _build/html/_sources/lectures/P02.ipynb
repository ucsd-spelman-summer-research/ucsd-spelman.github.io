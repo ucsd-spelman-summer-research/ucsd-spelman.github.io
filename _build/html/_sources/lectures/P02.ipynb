{
 "cells": [
  {
   "cell_type": "markdown",
   "metadata": {},
   "source": [
    "# P02: Control flow and logic\n",
    "\n",
    "Computer programs become very powerful once we can command their flow of execution.  This is done via two primary control structures:\n",
    "\n",
    "- Conditionals (`if...elif...else`) statements that allow the program execution to *branch* based on conditions that are met, and\n",
    "- Loops (`for` and `while`) that allow the program execution to *repeat* either a fixed number of times (`for` loops) or until some condition is met (`while` loops).\n",
    "\n",
    "- Overview of topics:\n",
    "    - conditionals (`if`, `elif`, `else`)\n",
    "    - comparison operators\n",
    "    - logic operators\n",
    "    - for loops\n",
    "    - while loops"
   ]
  }
 ],
 "metadata": {
  "kernelspec": {
   "display_name": "Python 3 (ipykernel)",
   "language": "python",
   "name": "python3"
  },
  "language_info": {
   "codemirror_mode": {
    "name": "ipython",
    "version": 3
   },
   "file_extension": ".py",
   "mimetype": "text/x-python",
   "name": "python",
   "nbconvert_exporter": "python",
   "pygments_lexer": "ipython3",
   "version": "3.9.7"
  }
 },
 "nbformat": 4,
 "nbformat_minor": 4
}
