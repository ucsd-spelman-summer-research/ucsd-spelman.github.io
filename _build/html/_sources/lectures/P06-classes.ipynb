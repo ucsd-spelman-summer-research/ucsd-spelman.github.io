{
 "cells": [
  {
   "cell_type": "markdown",
   "metadata": {},
   "source": [
    "# P06: classes and objects\n",
    "\n",
    "- objects\n",
    "- `class`\n",
    "    - attributes\n",
    "    - methods\n",
    "- instances\n",
    "    - `__init__`"
   ]
  },
  {
   "cell_type": "markdown",
   "metadata": {},
   "source": [
    "## Objects and object oriented programming (OOP)\n",
    "\n",
    "* Objects have special properties and data...these are referred to as **attributes** of an object\n",
    "    * **Methods**: Methods are functions that are defined for a specific object type\n",
    "    * **Data**: Some attributes of an object store data that is updated and stored in the object"
   ]
  },
  {
   "cell_type": "markdown",
   "metadata": {},
   "source": [
    "### Storing Dates (Motivation)"
   ]
  },
  {
   "cell_type": "code",
   "execution_count": null,
   "metadata": {
    "pycharm": {
     "name": "#%%\n"
    }
   },
   "outputs": [],
   "source": [
    "# A date, stored as a string\n",
    "date_string = '29/09/1988'\n",
    "print(date_string)"
   ]
  },
  {
   "cell_type": "code",
   "execution_count": null,
   "metadata": {
    "pycharm": {
     "name": "#%%\n"
    }
   },
   "outputs": [],
   "source": [
    "# A date, stored as a list of numbers\n",
    "date_list = ['29', '09', '1988']\n",
    "date_list"
   ]
  },
  {
   "cell_type": "code",
   "execution_count": null,
   "metadata": {
    "pycharm": {
     "name": "#%%\n"
    }
   },
   "outputs": [],
   "source": [
    "# A date, stored as a series of numbers\n",
    "day = 29\n",
    "month = 9\n",
    "year = 1988\n",
    "\n",
    "print(day)"
   ]
  },
  {
   "cell_type": "code",
   "execution_count": null,
   "metadata": {
    "pycharm": {
     "name": "#%%\n"
    }
   },
   "outputs": [],
   "source": [
    "# A date, stored as a dictionary\n",
    "date_dictionary = {'day': 29, 'month': 9, 'year': 1988}\n",
    "date_dictionary"
   ]
  },
  {
   "cell_type": "markdown",
   "metadata": {},
   "source": [
    "Ways to organize data (variables) and functions together."
   ]
  },
  {
   "cell_type": "markdown",
   "metadata": {},
   "source": [
    "### Example Object: Date"
   ]
  },
  {
   "cell_type": "code",
   "execution_count": null,
   "metadata": {
    "pycharm": {
     "name": "#%%\n"
    }
   },
   "outputs": [],
   "source": [
    "# Import a date object\n",
    "from datetime import date"
   ]
  },
  {
   "cell_type": "code",
   "execution_count": null,
   "metadata": {
    "pycharm": {
     "name": "#%%\n"
    }
   },
   "outputs": [],
   "source": [
    "date?"
   ]
  },
  {
   "cell_type": "code",
   "execution_count": null,
   "metadata": {
    "pycharm": {
     "name": "#%%\n"
    }
   },
   "outputs": [],
   "source": [
    "# Set the data we want to store in our date object\n",
    "day = 29\n",
    "month = 9\n",
    "year = 1988\n",
    "\n",
    "# Create a date object\n",
    "my_date = date(year, month, day)\n",
    "print(my_date)"
   ]
  },
  {
   "cell_type": "code",
   "execution_count": null,
   "metadata": {
    "pycharm": {
     "name": "#%%\n"
    }
   },
   "outputs": [],
   "source": [
    "# Check what type of thing `my_date` is\n",
    "type(my_date)"
   ]
  },
  {
   "cell_type": "markdown",
   "metadata": {},
   "source": [
    "## Accessing Attributes & Methods"
   ]
  },
  {
   "cell_type": "markdown",
   "metadata": {},
   "source": [
    "### Date - Attributes\n",
    "\n",
    "Attributes look up & return information about the object."
   ]
  },
  {
   "cell_type": "markdown",
   "metadata": {},
   "source": [
    "**Attributes** maintain the object's data, or the object's state - these simply return information about the object to you...attributes are the data associated with an instance of an object "
   ]
  },
  {
   "cell_type": "code",
   "execution_count": null,
   "metadata": {
    "pycharm": {
     "name": "#%%\n"
    }
   },
   "outputs": [],
   "source": [
    "# Get the day attribute\n",
    "my_date.day"
   ]
  },
  {
   "cell_type": "code",
   "execution_count": null,
   "metadata": {
    "pycharm": {
     "name": "#%%\n"
    }
   },
   "outputs": [],
   "source": [
    "# Get the month attribute\n",
    "my_date.month"
   ]
  },
  {
   "cell_type": "code",
   "execution_count": null,
   "metadata": {
    "pycharm": {
     "name": "#%%\n"
    }
   },
   "outputs": [],
   "source": [
    "# Get the year attribute\n",
    "my_date.year"
   ]
  },
  {
   "cell_type": "markdown",
   "metadata": {},
   "source": [
    "### Date - Methods\n",
    "\n",
    "* These are **functions** that **belong** to and operate on the object directly.\n",
    "* Methods modify the state of the object\n",
    "* Methods are accessed with a `.`, followed by the method name\n",
    "* Can get a list of all available methods by typing `object.` followed by the `tab` key"
   ]
  },
  {
   "cell_type": "code",
   "execution_count": null,
   "metadata": {
    "pycharm": {
     "name": "#%%\n"
    }
   },
   "outputs": [],
   "source": [
    "# Method to return what day of the week the date is\n",
    "my_date.weekday()"
   ]
  },
  {
   "cell_type": "code",
   "execution_count": null,
   "metadata": {
    "pycharm": {
     "name": "#%%\n"
    }
   },
   "outputs": [],
   "source": [
    "# Reminder: check documentation with '?'\n",
    "date.weekday?"
   ]
  },
  {
   "cell_type": "markdown",
   "metadata": {},
   "source": [
    "It's also possible to carry out operations on multiple date objects."
   ]
  },
  {
   "cell_type": "code",
   "execution_count": null,
   "metadata": {
    "pycharm": {
     "name": "#%%\n"
    }
   },
   "outputs": [],
   "source": [
    "# define a second date\n",
    "my_date2 = date(1980, 7, 29)\n",
    "print(my_date, my_date2)"
   ]
  },
  {
   "cell_type": "code",
   "execution_count": null,
   "metadata": {
    "pycharm": {
     "name": "#%%\n"
    }
   },
   "outputs": [],
   "source": [
    "# calculate the difference between times\n",
    "time_diff = my_date - my_date2\n",
    "print(time_diff.days,  \"days\") #in days\n",
    "print(time_diff.days/365, \"years\") #in years"
   ]
  },
  {
   "cell_type": "markdown",
   "metadata": {},
   "source": [
    "### Listing Attributes & Methods : `dir`"
   ]
  },
  {
   "cell_type": "code",
   "execution_count": null,
   "metadata": {
    "pycharm": {
     "name": "#%%\n"
    }
   },
   "outputs": [],
   "source": [
    "# tab complete to access\n",
    "# methods and attributes\n",
    "my_date.\n",
    "\n",
    "# works to find attributes and methods\n",
    "# for date type objects generally\n",
    "date."
   ]
  },
  {
   "cell_type": "code",
   "execution_count": null,
   "metadata": {
    "pycharm": {
     "name": "#%%\n"
    }
   },
   "outputs": [],
   "source": [
    "## dir ouputs all methods and attributes\n",
    "## we'll talk about the double underscores later in these notes...\n",
    "dir(my_date)"
   ]
  },
  {
   "cell_type": "markdown",
   "metadata": {},
   "source": [
    "### Objects Summary\n",
    "\n",
    "- Objects allow for data (attributes) and functions (methods) to be organized together\n",
    "    - methods operate on the object type (modify state)\n",
    "    - attributes store and return information (data) about the object (maintain state)\n",
    "- `dir()` returns methods & attributes for an object\n",
    "- Syntax:\n",
    "    - `obj.method()`\n",
    "    - `obj.attribute`\n",
    "- `date` and `datetime` are two types of objects in Python"
   ]
  },
  {
   "cell_type": "markdown",
   "metadata": {},
   "source": [
    "## Classes"
   ]
  },
  {
   "cell_type": "markdown",
   "metadata": {},
   "source": [
    "**Classes** define objects. The `class` keyword opens a code block for instructions on how to create objects of a particular type."
   ]
  },
  {
   "cell_type": "markdown",
   "metadata": {},
   "source": [
    "Think of classes as the _blueprint_ for creating and defining objects and their properties (methods, attributes, etc.). They keep related things together and organized.\n",
    "\n",
    "* See this [link](https://betterprogramming.pub/string-case-styles-camel-pascal-snake-and-kebab-case-981407998841) for more on Pascal case vs. snake_case (and other conventions)"
   ]
  },
  {
   "cell_type": "markdown",
   "metadata": {},
   "source": [
    "## Example Class: Dog"
   ]
  },
  {
   "cell_type": "code",
   "execution_count": null,
   "metadata": {
    "pycharm": {
     "name": "#%%\n"
    }
   },
   "outputs": [],
   "source": [
    "# Define a class with `class`.\n",
    "# By convention, class definitions use CapWords (Pascal case)\n",
    "class Dog():\n",
    "\n",
    "    # Class attributes for objects of type Dog\n",
    "    sound = 'Woof'\n",
    "\n",
    "    # Class methods for objects of type Dog\n",
    "    # default number of times assigned 2\n",
    "    def speak(self, n_times=2):\n",
    "        \n",
    "        # we assigned the sound variable \n",
    "        # above and it belongs to this \n",
    "        # object...so we access that variable (attribute)\n",
    "        # by calling self.attribute_name (self.sound in this case!)\n",
    "        return self.sound * n_times"
   ]
  },
  {
   "cell_type": "markdown",
   "metadata": {},
   "source": [
    "A reminder:\n",
    "- **attributes** maintain the object's state; they lookup information about an object\n",
    "- **methods** usually alter the object's state; they run a function on an object"
   ]
  },
  {
   "cell_type": "markdown",
   "metadata": {},
   "source": [
    "**`class`** notes:\n",
    "\n",
    "- classes tend to use **CapWords** convention (Pascal Case)\n",
    "    - instead of snake_case (functions and variable names)\n",
    "- `()` after `Dog` indicate that this is callable\n",
    "    - like functions, Classes must be executed before they take effect\n",
    "- can define **attributes** & **methods** within `class`\n",
    "- `self` is a special parameter for use by an object\n",
    "    - refers to the thing (object) itself\n",
    "- like functions, a new namespace is created within a Class\n"
   ]
  },
  {
   "cell_type": "code",
   "execution_count": null,
   "metadata": {
    "pycharm": {
     "name": "#%%\n"
    }
   },
   "outputs": [],
   "source": [
    "# Initialize a dog object\n",
    "ricki = Dog()"
   ]
  },
  {
   "cell_type": "code",
   "execution_count": null,
   "metadata": {
    "pycharm": {
     "name": "#%%\n"
    }
   },
   "outputs": [],
   "source": [
    "# ricki has the 'sound' attribute from the class Dog()\n",
    "ricki.sound"
   ]
  },
  {
   "cell_type": "code",
   "execution_count": null,
   "metadata": {
    "pycharm": {
     "name": "#%%\n"
    }
   },
   "outputs": [],
   "source": [
    "# ricki, has 'Dog' method(s)\n",
    "# remember how we used `self` in our \n",
    "# method definition in the class Dog()\n",
    "ricki.speak()"
   ]
  },
  {
   "cell_type": "markdown",
   "metadata": {},
   "source": [
    "## Instances & self"
   ]
  },
  {
   "cell_type": "markdown",
   "metadata": {},
   "source": [
    "* An **instance** is particular instantiation of a class object. `self` refers to the current instance.\n",
    "* If you have two instances of an object, they can have different values for attributes...\n",
    "    * For example, if we wrote a variant of our `Dog()` class that keeps track of how many times it barks, then difference instances of `Dog()` can have different values for the attribute that keeps track of barking..."
   ]
  },
  {
   "cell_type": "code",
   "execution_count": null,
   "metadata": {},
   "outputs": [],
   "source": [
    "# make a slightly more sophicated Dog...\n",
    "class Dog():\n",
    "\n",
    "    # Class attributes for objects of type Dog\n",
    "    sound = 'Woof'\n",
    "    barks = 0    # how many times has the Dog barked?\n",
    "    \n",
    "    # Class methods for objects of type Dog\n",
    "    def speak(self, n_times=2):\n",
    "        # update self.barks to keep track of\n",
    "        # of how many woofs...\n",
    "        self.barks += n_times\n",
    "        \n",
    "        # then make the sound the desired number of times\n",
    "        return self.sound * n_times"
   ]
  },
  {
   "cell_type": "code",
   "execution_count": null,
   "metadata": {
    "pycharm": {
     "name": "#%%\n"
    }
   },
   "outputs": [],
   "source": [
    "# Initialize two instances of class Dog()\n",
    "ricki = Dog()\n",
    "punky = Dog()"
   ]
  },
  {
   "cell_type": "code",
   "execution_count": null,
   "metadata": {},
   "outputs": [],
   "source": [
    "print(f'First ricki says: {ricki.speak(5)}')\n",
    "print(f'Then punky responds: {punky.speak(2)}')\n",
    "print(f'Ricki agrees to chase the rabbit by saying: {ricki.speak(2)}')"
   ]
  },
  {
   "cell_type": "code",
   "execution_count": null,
   "metadata": {},
   "outputs": [],
   "source": [
    "print(f'Punky barked {punky.barks} times during the conversation')\n",
    "print(f'Ricki barked {ricki.barks} times during the conversation')"
   ]
  },
  {
   "cell_type": "markdown",
   "metadata": {},
   "source": [
    "From our example above:\n",
    "\n",
    "- Dog is the Class we created\n",
    "- `ricki` is one _instance_ of the class, `punky` is another _instance_\n",
    "- The class Dog has two attributes - sound ('Woof') and `barks` (number of times each **instance** of Dog has barked)\n",
    "- `self` refers to whatever the _current_ instance is..."
   ]
  },
  {
   "cell_type": "markdown",
   "metadata": {},
   "source": [
    "\n",
    "## Instance Attributes\n",
    "\n",
    "An instance attribute specific to the instance we're on. This allows different instances of the same class to be unique (have different values stored in attributes and use those in methods)."
   ]
  },
  {
   "cell_type": "code",
   "execution_count": null,
   "metadata": {
    "pycharm": {
     "name": "#%%\n"
    }
   },
   "outputs": [],
   "source": [
    "# Initialize an empty list to store a pack of dogs\n",
    "pack_of_dogs = []\n",
    "\n",
    "# make 4 instances of Dog()\n",
    "for dog in range(4):\n",
    "    pack_of_dogs.append(Dog())\n",
    "    \n",
    "# note that all instances of Dog()\n",
    "# have the same attributes (sound and barks)\n",
    "# e.g. all Dogs say 'Woof'\n",
    "for dog in pack_of_dogs:\n",
    "    print(dog.sound)"
   ]
  },
  {
   "cell_type": "markdown",
   "metadata": {},
   "source": [
    "This creates four different `Dog` type objects and stores them in a list. So even though we could separately keep track of how many times each dog barked, every dog starts with the same two attributes (`sound` and `barks` and they all start off being assigned `'Woof'` and `0`..."
   ]
  },
  {
   "cell_type": "markdown",
   "metadata": {},
   "source": [
    "What if we want to have attributes that are different for diffgerent instances of a class? \n",
    "\n",
    "These are called **instance attributes** and `__init__` is a special method used to define them.\n",
    "\n",
    "## Example Class: Dog Revisited\n",
    "\n",
    "- Two trailing underscores (a `dunder`, or double underscore) is used to indicate something Python recognizes and knows what to do every time it sees it.\n",
    "- Here, we use `__init__` to execute the code within it every time you initialize an object."
   ]
  },
  {
   "cell_type": "code",
   "execution_count": null,
   "metadata": {
    "pycharm": {
     "name": "#%%\n"
    }
   },
   "outputs": [],
   "source": [
    "class Dog():\n",
    "\n",
    "    # Class attributes for *all* Dogs\n",
    "    # these are shared by all instances \n",
    "    # of Dog\n",
    "    sound = 'Woof'\n",
    "    barks = 0\n",
    "    \n",
    "    # __init__ method allows us to specify instance-specific attributes\n",
    "    # leading and trailing double underscores indicates that this is special to Python\n",
    "    # in this case we can give each instance of Dog a different name...\n",
    "    def __init__(self, name):\n",
    "        self.name = name\n",
    "\n",
    "    def speak(self, n_times=2):\n",
    "        self.barks += n_times\n",
    "        return self.sound * n_times"
   ]
  },
  {
   "cell_type": "code",
   "execution_count": null,
   "metadata": {
    "pycharm": {
     "name": "#%%\n"
    }
   },
   "outputs": [],
   "source": [
    "# Initialize a dog\n",
    "# what goes in the parentheses is defined in the __init__\n",
    "dog1 = Dog(name='Ricki')\n",
    "dog2 = Dog(name='Punky')"
   ]
  },
  {
   "cell_type": "code",
   "execution_count": null,
   "metadata": {
    "pycharm": {
     "name": "#%%\n"
    }
   },
   "outputs": [],
   "source": [
    "# Check dog1's attributes\n",
    "print(dog1.sound)    # This is an class attribute\n",
    "print(dog1.name)     # This is a instance attribute"
   ]
  },
  {
   "cell_type": "code",
   "execution_count": null,
   "metadata": {
    "pycharm": {
     "name": "#%%\n"
    }
   },
   "outputs": [],
   "source": [
    "# Check dog2's methods\n",
    "dog2.name"
   ]
  },
  {
   "cell_type": "markdown",
   "metadata": {},
   "source": [
    "## Everything in Python is an Object!"
   ]
  },
  {
   "cell_type": "markdown",
   "metadata": {},
   "source": [
    "### Data variables are objects"
   ]
  },
  {
   "cell_type": "code",
   "execution_count": null,
   "metadata": {
    "pycharm": {
     "name": "#%%\n"
    }
   },
   "outputs": [],
   "source": [
    "print(isinstance(True, object))\n",
    "print(isinstance(1, object))\n",
    "print(isinstance('word', object))\n",
    "print(isinstance(None, object))\n",
    "\n",
    "a = 3\n",
    "print(isinstance(a, object))"
   ]
  },
  {
   "cell_type": "markdown",
   "metadata": {},
   "source": [
    "### Functions are objects"
   ]
  },
  {
   "cell_type": "code",
   "execution_count": null,
   "metadata": {
    "pycharm": {
     "name": "#%%\n"
    }
   },
   "outputs": [],
   "source": [
    "print(isinstance(sum, object))\n",
    "print(isinstance(max, object))"
   ]
  },
  {
   "cell_type": "code",
   "execution_count": null,
   "metadata": {
    "pycharm": {
     "name": "#%%\n"
    }
   },
   "outputs": [],
   "source": [
    "# Custom function are also objects\n",
    "def my_function():\n",
    "    print('yay Python!')\n",
    "\n",
    "isinstance(my_function, object)"
   ]
  },
  {
   "cell_type": "markdown",
   "metadata": {},
   "source": [
    "### Class definitions & instances are objects"
   ]
  },
  {
   "cell_type": "code",
   "execution_count": null,
   "metadata": {
    "pycharm": {
     "name": "#%%\n"
    }
   },
   "outputs": [],
   "source": [
    "class MyClass():\n",
    "    def __init__(self):\n",
    "        self.data = 13\n",
    "\n",
    "my_instance = MyClass()\n",
    "\n",
    "print(isinstance(MyClass, object))\n",
    "print(isinstance(my_instance, object))"
   ]
  },
  {
   "cell_type": "markdown",
   "metadata": {},
   "source": [
    "## More complex example\n",
    "* Here we'll make something a little more complex and useful...this will be a `RealEstate` object that keeps track of how much money you have and whether you want to buy or sell a property. \n",
    "    * You start with `seed_money` dollars - this will be stored in the attribute `money` and `seed_money` will be defined when you create an instance of `RealEstate`. \n",
    "    * You also start with an empty dictionary named `properties` that will store the address, size (in sq ft) and cost of properties that you purchase and now own. \n",
    "    * Based on your real estate acumen, you will buy any property that is over 1900 sq ft in size as long as it costs less than 1 million dollars. If it over 1900 sq ft and costs more than 1 million dollars, you will not buy it. \n",
    "    * You will have a method that determines whether you will buy the house, we'll call this method `purchase`\n",
    "    * We will pass `purchase` the address of the house, the house size (in sq ft) and the cost. \n",
    "    * If the house satisfies your criteria, **and you have enough money**, then you will buy the house, subtract the cost of the house from the `money` attribute, and you will update the `properties` dictionary. \n",
    "    * If the house meets the size and cost requirements, but you do not have enough money, print the message `\"Sorry - nice house but you don't have enough money\"`\n",
    "    * If the house does not meet your criteria, then print `\"Not interested\"`\n"
   ]
  },
  {
   "cell_type": "code",
   "execution_count": 11,
   "metadata": {},
   "outputs": [],
   "source": [
    "class RealEstate():\n",
    "    \n",
    "    # Init instance attributes \n",
    "    def __init__(self, params):\n",
    "        \n",
    "        # initialize a dictionary to store \n",
    "        # address, size, cost of purchased properties\n",
    "        self.properties = dict()\n",
    "        \n",
    "        # initialize seed_money, default is 0\n",
    "        self.money = params.get('seed_money', 0)\n",
    "        \n",
    "        # initialize min_size of house, default is 1000\n",
    "        self.min_size = params.get('min_size', 1000)\n",
    "        \n",
    "        # initialize max_price, default is 500000\n",
    "        self.max_price = params.get('max_price', 500000)\n",
    "                \n",
    "            \n",
    "    # purchase method to determine if  you buy, update dictionary, etc. \n",
    "    def purchase(self, address, size, cost):\n",
    "        \n",
    "        # see if the size is acceptable, if the cost is acceptable, and if we \n",
    "        # have enough money...\n",
    "        if size >= self.min_size and cost <= self.max_price and self.money>=cost:\n",
    "                        \n",
    "            # subtract the cost from total amount of money\n",
    "            self.money -= cost\n",
    "            \n",
    "            # update dictionary\n",
    "            self.properties['address'] = address\n",
    "            self.properties['size'] = size\n",
    "            self.properties['cost'] = cost\n",
    "            \n",
    "            print(f'You now own: {address}')\n",
    "        \n",
    "        elif size >= self.min_size and cost <= self.max_price and self.money <= cost:\n",
    "            print(\"Sorry - nice house but you don't have enough money\")\n",
    "        \n",
    "        else:\n",
    "            print(\"Not interested - too small or too much money!\")"
   ]
  },
  {
   "cell_type": "code",
   "execution_count": 13,
   "metadata": {},
   "outputs": [
    {
     "name": "stdout",
     "output_type": "stream",
     "text": [
      "{'seed_money': 3000000, 'min_size': 1900, 'max_price': 1000000}\n",
      "3000000\n",
      "{}\n",
      "1000000\n"
     ]
    }
   ],
   "source": [
    "# create an instance of RealEstate\n",
    "params = {'seed_money' : 3000000, 'min_size' : 1900, 'max_price' : 1000000}\n",
    "re = RealEstate(params)\n",
    "\n",
    "# check to make sure we initialized everything correctly in __init__\n",
    "print(re.money)\n",
    "print(re.properties)\n",
    "print(re.max_price)"
   ]
  },
  {
   "cell_type": "markdown",
   "metadata": {},
   "source": [
    "### Now we can pass in some properties to see if we want to buy them..."
   ]
  },
  {
   "cell_type": "code",
   "execution_count": 14,
   "metadata": {},
   "outputs": [
    {
     "name": "stdout",
     "output_type": "stream",
     "text": [
      "You now own: 203 N Amity St. Baltimore, MD, 21223\n"
     ]
    }
   ],
   "source": [
    "re.purchase('203 N Amity St. Baltimore, MD, 21223', 2100, 999000)"
   ]
  },
  {
   "cell_type": "code",
   "execution_count": 15,
   "metadata": {},
   "outputs": [
    {
     "name": "stdout",
     "output_type": "stream",
     "text": [
      "2001000\n",
      "{'address': '203 N Amity St. Baltimore, MD, 21223', 'size': 2100, 'cost': 999000}\n"
     ]
    }
   ],
   "source": [
    "# see if we decremented our money correctly\n",
    "print(re.money)\n",
    "print(re.properties)"
   ]
  },
  {
   "cell_type": "code",
   "execution_count": 16,
   "metadata": {},
   "outputs": [
    {
     "name": "stdout",
     "output_type": "stream",
     "text": [
      "Not interested - too small or too much money!\n"
     ]
    }
   ],
   "source": [
    "# See what happens when our criteria are not met - cost too high\n",
    "re.purchase('110 Calle Iglesia, San Clemente, CA 92672', 2100, 4000000)"
   ]
  },
  {
   "cell_type": "code",
   "execution_count": 17,
   "metadata": {},
   "outputs": [
    {
     "name": "stdout",
     "output_type": "stream",
     "text": [
      "You now own: 9826 La Jolla Farms Rd La Jolla, CA\n",
      "You now own: 2808 Ocean Front, Del Mar, CA, 92014\n"
     ]
    }
   ],
   "source": [
    "# Buy another one to run down our money...\n",
    "re.purchase('9826 La Jolla Farms Rd La Jolla, CA', 10500, 999999)\n",
    "re.purchase('2808 Ocean Front, Del Mar, CA, 92014', 5800, 900000)"
   ]
  },
  {
   "cell_type": "code",
   "execution_count": 18,
   "metadata": {},
   "outputs": [
    {
     "data": {
      "text/plain": [
       "101001"
      ]
     },
     "execution_count": 18,
     "metadata": {},
     "output_type": "execute_result"
    }
   ],
   "source": [
    "# check our cash...\n",
    "re.money"
   ]
  },
  {
   "cell_type": "code",
   "execution_count": 19,
   "metadata": {},
   "outputs": [
    {
     "name": "stdout",
     "output_type": "stream",
     "text": [
      "Sorry - nice house but you don't have enough money\n"
     ]
    }
   ],
   "source": [
    "# now try to buy a house that meets our criteria but that we can't afford...\n",
    "re.purchase('9630 La Jolla Farms Rd, La Jolla, CA 92037', 3290, 875000)"
   ]
  },
  {
   "cell_type": "markdown",
   "metadata": {},
   "source": [
    "## Data analysis example\n",
    "* recall the functions that we used for cleaning text...lets write a class that can do all of those operations for us!"
   ]
  },
  {
   "cell_type": "code",
   "execution_count": 7,
   "metadata": {},
   "outputs": [],
   "source": [
    "class CleanText():\n",
    "    \n",
    "    def __init__(self, params):\n",
    "        \n",
    "        # if search target is defined...else ''\n",
    "        self.search_target = params.get('search_target', '')\n",
    "        \n",
    "        # keep how many lines after search target? \n",
    "        # default 0 which will mean \"keep till end of book\"\n",
    "        self.keep_lines = params.get('keep_lines', '')\n",
    "        \n",
    "        \n",
    "    # segment text...\n",
    "    def segment_text(self, text):\n",
    "        \n",
    "        for cnt, line in enumerate(text):\n",
    "    \n",
    "            # test to see if the current line has search_target in it\n",
    "            if self.search_target in line:\n",
    "                # grab the line where chapter 5 starts\n",
    "                start_index = cnt\n",
    "        \n",
    "                # exit the loop by calling 'break'\n",
    "                break\n",
    "        \n",
    "        # slice\n",
    "        if self.keep_lines:\n",
    "            text = text[start_index:start_index + self.keep_lines]\n",
    "        else: \n",
    "            # go from start to end of book\n",
    "            text = text[start_index:]\n",
    "            \n",
    "        return text\n",
    "    \n",
    "    \n",
    "    # turn to lower case \n",
    "    def clean_text(self, text):\n",
    "        # join text list into a string\n",
    "        text_string = ' '.join(text)\n",
    "        \n",
    "        # lower case it\n",
    "        text_string = text_string.lower()\n",
    "        \n",
    "        # remove newlines\n",
    "        text_string = text_string.replace('\\n', '')\n",
    "\n",
    "        # remove all unwanted characters (punctuation...)\n",
    "        for c in set(text_string):\n",
    "            if c not in ' abcdefghijklmnopqrstuvwxyz':\n",
    "                text_string = text_string.replace(c, '')\n",
    "        \n",
    "        # convert back to list...\n",
    "        return text_string.split(' ')\n",
    "\n",
    "    \n",
    "    # count the words...\n",
    "    def count_words(self, text):\n",
    "        \n",
    "        # first clean the text...\n",
    "        text = self.clean_text(text)\n",
    "        \n",
    "        # then count the words!\n",
    "        wc = {}   # or you can use dict()\n",
    "\n",
    "        # now loop over **all** words in the book\n",
    "        for w in text:\n",
    "\n",
    "            # if w is not a word (i.e. it is an empty string)\n",
    "            # then continue\n",
    "            if not w:\n",
    "                continue\n",
    "\n",
    "            # if w is a word, and its not already in our dictionary\n",
    "            # then make a new key\n",
    "            if w not in wc:\n",
    "                wc[w] = 0\n",
    "\n",
    "            # increment a counter each time the word w appears...\n",
    "            wc[w] += 1\n",
    "            \n",
    "        return wc"
   ]
  },
  {
   "cell_type": "code",
   "execution_count": 8,
   "metadata": {},
   "outputs": [],
   "source": [
    "# open our file for reading...\n",
    "with open('frankenstein.txt', 'r') as f:\n",
    "    # read the entire file...with each line \n",
    "    # returned as a string in a list\n",
    "    # we'll call the list 'book'\n",
    "    text = f.readlines()"
   ]
  },
  {
   "cell_type": "code",
   "execution_count": 9,
   "metadata": {},
   "outputs": [
    {
     "data": {
      "text/plain": [
       "'It was on a dreary night'"
      ]
     },
     "execution_count": 9,
     "metadata": {},
     "output_type": "execute_result"
    }
   ],
   "source": [
    "# set up our object...specifying search target but not keep lines \n",
    "# (will use the default value for that...)\n",
    "params = {'search_target': 'It was on a dreary night'}\n",
    "ct = CleanText(params)\n",
    "ct.search_target"
   ]
  },
  {
   "cell_type": "code",
   "execution_count": 10,
   "metadata": {},
   "outputs": [
    {
     "name": "stdout",
     "output_type": "stream",
     "text": [
      "['It was on a dreary night of November that I beheld the accomplishment\\n', 'of my toils. With an anxiety that almost amounted to agony, I\\n', 'collected the instruments of life around me, that I might infuse a\\n', 'spark of being into the lifeless thing that lay at my feet. It was\\n', 'already one in the morning; the rain pattered dismally against the\\n', 'panes, and my candle was nearly burnt out, when, by the glimmer of the\\n', 'half-extinguished light, I saw the dull yellow eye of the creature\\n', 'open; it breathed hard, and a convulsive motion agitated its limbs.\\n', '\\n', 'How can I describe my emotions at this catastrophe, or how delineate\\n', 'the wretch whom with such infinite pains and care I had endeavoured to\\n', 'form? His limbs were in proportion, and I had selected his features as\\n', 'beautiful. Beautiful! Great God! His yellow skin scarcely covered\\n', 'the work of muscles and arteries beneath; his hair was of a lustrous\\n', 'black, and flowing; his teeth of a pearly whiteness; but these\\n', 'luxuriances only formed a more horrid contrast with his watery eyes,\\n', 'that seemed almost of the same colour as the dun-white sockets in which\\n', 'they were set, his shrivelled complexion and straight black lips.\\n', '\\n', 'The different accidents of life are not so changeable as the feelings\\n', 'of human nature. I had worked hard for nearly two years, for the sole\\n', 'purpose of infusing life into an inanimate body. For this I had\\n', 'deprived myself of rest and health. I had desired it with an ardour\\n', 'that far exceeded moderation; but now that I had finished, the beauty\\n', 'of the dream vanished, and breathless horror and disgust filled my\\n', 'heart. Unable to endure the aspect of the being I had created, I\\n', 'rushed out of the room and continued a long time traversing my\\n', 'bed-chamber, unable to compose my mind to sleep. At length lassitude\\n', 'succeeded to the tumult I had before endured, and I threw myself on the\\n', 'bed in my clothes, endeavouring to seek a few moments of forgetfulness.\\n', 'But it was in vain; I slept, indeed, but I was disturbed by the wildest\\n', 'dreams. I thought I saw Elizabeth, in the bloom of health, walking in\\n', 'the streets of Ingolstadt. Delighted and surprised, I embraced her,\\n', 'but as I imprinted the first kiss on her lips, they became livid with\\n', 'the hue of death; her features appeared to change, and I thought that I\\n', 'held the corpse of my dead mother in my arms; a shroud enveloped her\\n', 'form, and I saw the grave-worms crawling in the folds of the flannel.\\n', 'I started from my sleep with horror; a cold dew covered my forehead, my\\n', 'teeth chattered, and every limb became convulsed; when, by the dim and\\n', 'yellow light of the moon, as it forced its way through the window\\n', 'shutters, I beheld the wretch—the miserable monster whom I had\\n', 'created. He held up the curtain of the bed; and his eyes, if eyes they\\n', 'may be called, were fixed on me. His jaws opened, and he muttered some\\n', 'inarticulate sounds, while a grin wrinkled his cheeks. He might have\\n', 'spoken, but I did not hear; one hand was stretched out, seemingly to\\n', 'detain me, but I escaped and rushed downstairs. I took refuge in the\\n', 'courtyard belonging to the house which I inhabited, where I remained\\n', 'during the rest of the night, walking up and down in the greatest\\n', 'agitation, listening attentively, catching and fearing each sound as if\\n', 'it were to announce the approach of the demoniacal corpse to which I\\n']\n"
     ]
    }
   ],
   "source": [
    "# segment text\n",
    "text = ct.segment_text(text)\n",
    "print(text)"
   ]
  },
  {
   "cell_type": "code",
   "execution_count": 11,
   "metadata": {},
   "outputs": [
    {
     "name": "stdout",
     "output_type": "stream",
     "text": [
      "{'it': 7, 'was': 7, 'on': 4, 'a': 11, 'dreary': 1, 'night': 2, 'of': 27, 'november': 1, 'that': 8, 'i': 33, 'beheld': 2, 'the': 46, 'accomplishment': 1, 'my': 13, 'toils': 1, 'with': 6, 'an': 3, 'anxiety': 1, 'almost': 2, 'amounted': 1, 'to': 12, 'agony': 1, 'collected': 1, 'instruments': 1, 'life': 3, 'around': 1, 'me': 3, 'might': 2, 'infuse': 1, 'spark': 1, 'being': 2, 'into': 2, 'lifeless': 1, 'thing': 1, 'lay': 1, 'at': 3, 'feet': 1, 'already': 1, 'one': 2, 'in': 11, 'morning': 1, 'rain': 1, 'pattered': 1, 'dismally': 1, 'against': 1, 'panes': 1, 'and': 22, 'candle': 1, 'nearly': 2, 'burnt': 1, 'out': 3, 'when': 2, 'by': 3, 'glimmer': 1, 'halfextinguished': 1, 'light': 2, 'saw': 3, 'dull': 1, 'yellow': 3, 'eye': 1, 'creature': 1, 'open': 1, 'breathed': 1, 'hard': 2, 'convulsive': 1, 'motion': 1, 'agitated': 1, 'its': 2, 'limbs': 2, 'how': 2, 'can': 1, 'describe': 1, 'emotions': 1, 'this': 2, 'catastrophe': 1, 'or': 1, 'delineate': 1, 'wretch': 1, 'whom': 2, 'such': 1, 'infinite': 1, 'pains': 1, 'care': 1, 'had': 9, 'endeavoured': 1, 'form': 2, 'his': 10, 'were': 4, 'proportion': 1, 'selected': 1, 'features': 2, 'as': 6, 'beautiful': 2, 'great': 1, 'god': 1, 'skin': 1, 'scarcely': 1, 'covered': 2, 'work': 1, 'muscles': 1, 'arteries': 1, 'beneath': 1, 'hair': 1, 'lustrous': 1, 'black': 2, 'flowing': 1, 'teeth': 2, 'pearly': 1, 'whiteness': 1, 'but': 7, 'these': 1, 'luxuriances': 1, 'only': 1, 'formed': 1, 'more': 1, 'horrid': 1, 'contrast': 1, 'watery': 1, 'eyes': 3, 'seemed': 1, 'same': 1, 'colour': 1, 'dunwhite': 1, 'sockets': 1, 'which': 3, 'they': 3, 'set': 1, 'shrivelled': 1, 'complexion': 1, 'straight': 1, 'lips': 2, 'different': 1, 'accidents': 1, 'are': 1, 'not': 2, 'so': 1, 'changeable': 1, 'feelings': 1, 'human': 1, 'nature': 1, 'worked': 1, 'for': 3, 'two': 1, 'years': 1, 'sole': 1, 'purpose': 1, 'infusing': 1, 'inanimate': 1, 'body': 1, 'deprived': 1, 'myself': 2, 'rest': 2, 'health': 2, 'desired': 1, 'ardour': 1, 'far': 1, 'exceeded': 1, 'moderation': 1, 'now': 1, 'finished': 1, 'beauty': 1, 'dream': 1, 'vanished': 1, 'breathless': 1, 'horror': 2, 'disgust': 1, 'filled': 1, 'heart': 1, 'unable': 2, 'endure': 1, 'aspect': 1, 'created': 2, 'rushed': 2, 'room': 1, 'continued': 1, 'long': 1, 'time': 1, 'traversing': 1, 'bedchamber': 1, 'compose': 1, 'mind': 1, 'sleep': 2, 'length': 1, 'lassitude': 1, 'succeeded': 1, 'tumult': 1, 'before': 1, 'endured': 1, 'threw': 1, 'bed': 2, 'clothes': 1, 'endeavouring': 1, 'seek': 1, 'few': 1, 'moments': 1, 'forgetfulness': 1, 'vain': 1, 'slept': 1, 'indeed': 1, 'disturbed': 1, 'wildest': 1, 'dreams': 1, 'thought': 2, 'elizabeth': 1, 'bloom': 1, 'walking': 2, 'streets': 1, 'ingolstadt': 1, 'delighted': 1, 'surprised': 1, 'embraced': 1, 'her': 4, 'imprinted': 1, 'first': 1, 'kiss': 1, 'became': 2, 'livid': 1, 'hue': 1, 'death': 1, 'appeared': 1, 'change': 1, 'held': 2, 'corpse': 2, 'dead': 1, 'mother': 1, 'arms': 1, 'shroud': 1, 'enveloped': 1, 'graveworms': 1, 'crawling': 1, 'folds': 1, 'flannel': 1, 'started': 1, 'from': 1, 'cold': 1, 'dew': 1, 'forehead': 1, 'chattered': 1, 'every': 1, 'limb': 1, 'convulsed': 1, 'dim': 1, 'moon': 1, 'forced': 1, 'way': 1, 'through': 1, 'window': 1, 'shutters': 1, 'wretchthe': 1, 'miserable': 1, 'monster': 1, 'he': 3, 'up': 2, 'curtain': 1, 'if': 2, 'may': 1, 'be': 1, 'called': 1, 'fixed': 1, 'jaws': 1, 'opened': 1, 'muttered': 1, 'some': 1, 'inarticulate': 1, 'sounds': 1, 'while': 1, 'grin': 1, 'wrinkled': 1, 'cheeks': 1, 'have': 1, 'spoken': 1, 'did': 1, 'hear': 1, 'hand': 1, 'stretched': 1, 'seemingly': 1, 'detain': 1, 'escaped': 1, 'downstairs': 1, 'took': 1, 'refuge': 1, 'courtyard': 1, 'belonging': 1, 'house': 1, 'inhabited': 1, 'where': 1, 'remained': 1, 'during': 1, 'down': 1, 'greatest': 1, 'agitation': 1, 'listening': 1, 'attentively': 1, 'catching': 1, 'fearing': 1, 'each': 1, 'sound': 1, 'announce': 1, 'approach': 1, 'demoniacal': 1}\n"
     ]
    }
   ],
   "source": [
    "# count the words!\n",
    "wc = ct.count_words(text)\n",
    "print(wc)"
   ]
  },
  {
   "cell_type": "code",
   "execution_count": 12,
   "metadata": {},
   "outputs": [],
   "source": [
    "# importantly - this class can handle processing any text!\n",
    "with open('alice-in-wonderland.txt', 'r') as f:\n",
    "    # read the entire file...with each line \n",
    "    # returned as a string in a list\n",
    "    # we'll call the list 'book'\n",
    "    text = f.readlines()"
   ]
  },
  {
   "cell_type": "code",
   "execution_count": 13,
   "metadata": {},
   "outputs": [
    {
     "data": {
      "text/plain": [
       "'Down the Rabbit-Hole'"
      ]
     },
     "execution_count": 13,
     "metadata": {},
     "output_type": "execute_result"
    }
   ],
   "source": [
    "# set up our object...specifying search target but not keep lines \n",
    "# (will use the default value for that...)\n",
    "params = {'search_target':'Down the Rabbit-Hole', 'keep_lines':100}\n",
    "ct = CleanText(params)\n",
    "ct.search_target"
   ]
  },
  {
   "cell_type": "code",
   "execution_count": 14,
   "metadata": {},
   "outputs": [
    {
     "name": "stdout",
     "output_type": "stream",
     "text": [
      "[' CHAPTER I.     Down the Rabbit-Hole\\n', ' CHAPTER II.    The Pool of Tears\\n', ' CHAPTER III.   A Caucus-Race and a Long Tale\\n', ' CHAPTER IV.    The Rabbit Sends in a Little Bill\\n', ' CHAPTER V.     Advice from a Caterpillar\\n', ' CHAPTER VI.    Pig and Pepper\\n', ' CHAPTER VII.   A Mad Tea-Party\\n', ' CHAPTER VIII.  The Queen’s Croquet-Ground\\n', ' CHAPTER IX.    The Mock Turtle’s Story\\n', ' CHAPTER X.     The Lobster Quadrille\\n', ' CHAPTER XI.    Who Stole the Tarts?\\n', ' CHAPTER XII.   Alice’s Evidence\\n', '\\n', '\\n', '\\n', '\\n', 'CHAPTER I.\\n', 'Down the Rabbit-Hole\\n', '\\n', '\\n', 'Alice was beginning to get very tired of sitting by her sister on the\\n', 'bank, and of having nothing to do: once or twice she had peeped into\\n', 'the book her sister was reading, but it had no pictures or\\n', 'conversations in it, “and what is the use of a book,” thought Alice\\n', '“without pictures or conversations?”\\n', '\\n', 'So she was considering in her own mind (as well as she could, for the\\n', 'hot day made her feel very sleepy and stupid), whether the pleasure of\\n', 'making a daisy-chain would be worth the trouble of getting up and\\n', 'picking the daisies, when suddenly a White Rabbit with pink eyes ran\\n', 'close by her.\\n', '\\n', 'There was nothing so _very_ remarkable in that; nor did Alice think it\\n', 'so _very_ much out of the way to hear the Rabbit say to itself, “Oh\\n', 'dear! Oh dear! I shall be late!” (when she thought it over afterwards,\\n', 'it occurred to her that she ought to have wondered at this, but at the\\n', 'time it all seemed quite natural); but when the Rabbit actually _took a\\n', 'watch out of its waistcoat-pocket_, and looked at it, and then hurried\\n', 'on, Alice started to her feet, for it flashed across her mind that she\\n', 'had never before seen a rabbit with either a waistcoat-pocket, or a\\n', 'watch to take out of it, and burning with curiosity, she ran across the\\n', 'field after it, and fortunately was just in time to see it pop down a\\n', 'large rabbit-hole under the hedge.\\n', '\\n', 'In another moment down went Alice after it, never once considering how\\n', 'in the world she was to get out again.\\n', '\\n', 'The rabbit-hole went straight on like a tunnel for some way, and then\\n', 'dipped suddenly down, so suddenly that Alice had not a moment to think\\n', 'about stopping herself before she found herself falling down a very\\n', 'deep well.\\n', '\\n', 'Either the well was very deep, or she fell very slowly, for she had\\n', 'plenty of time as she went down to look about her and to wonder what\\n', 'was going to happen next. First, she tried to look down and make out\\n', 'what she was coming to, but it was too dark to see anything; then she\\n', 'looked at the sides of the well, and noticed that they were filled with\\n', 'cupboards and book-shelves; here and there she saw maps and pictures\\n', 'hung upon pegs. She took down a jar from one of the shelves as she\\n', 'passed; it was labelled “ORANGE MARMALADE”, but to her great\\n', 'disappointment it was empty: she did not like to drop the jar for fear\\n', 'of killing somebody underneath, so managed to put it into one of the\\n', 'cupboards as she fell past it.\\n', '\\n', '“Well!” thought Alice to herself, “after such a fall as this, I shall\\n', 'think nothing of tumbling down stairs! How brave they’ll all think me\\n', 'at home! Why, I wouldn’t say anything about it, even if I fell off the\\n', 'top of the house!” (Which was very likely true.)\\n', '\\n', 'Down, down, down. Would the fall _never_ come to an end? “I wonder how\\n', 'many miles I’ve fallen by this time?” she said aloud. “I must be\\n', 'getting somewhere near the centre of the earth. Let me see: that would\\n', 'be four thousand miles down, I think—” (for, you see, Alice had learnt\\n', 'several things of this sort in her lessons in the schoolroom, and\\n', 'though this was not a _very_ good opportunity for showing off her\\n', 'knowledge, as there was no one to listen to her, still it was good\\n', 'practice to say it over) “—yes, that’s about the right distance—but\\n', 'then I wonder what Latitude or Longitude I’ve got to?” (Alice had no\\n', 'idea what Latitude was, or Longitude either, but thought they were nice\\n', 'grand words to say.)\\n', '\\n', 'Presently she began again. “I wonder if I shall fall right _through_\\n', 'the earth! How funny it’ll seem to come out among the people that walk\\n', 'with their heads downward! The Antipathies, I think—” (she was rather\\n', 'glad there _was_ no one listening, this time, as it didn’t sound at all\\n', 'the right word) “—but I shall have to ask them what the name of the\\n', 'country is, you know. Please, Ma’am, is this New Zealand or Australia?”\\n', '(and she tried to curtsey as she spoke—fancy _curtseying_ as you’re\\n', 'falling through the air! Do you think you could manage it?) “And what\\n', 'an ignorant little girl she’ll think me for asking! No, it’ll never do\\n', 'to ask: perhaps I shall see it written up somewhere.”\\n', '\\n', 'Down, down, down. There was nothing else to do, so Alice soon began\\n', 'talking again. “Dinah’ll miss me very much to-night, I should think!”\\n', '(Dinah was the cat.) “I hope they’ll remember her saucer of milk at\\n', 'tea-time. Dinah my dear! I wish you were down here with me! There are\\n', 'no mice in the air, I’m afraid, but you might catch a bat, and that’s\\n', 'very like a mouse, you know. But do cats eat bats, I wonder?” And here\\n', 'Alice began to get rather sleepy, and went on saying to herself, in a\\n', 'dreamy sort of way, “Do cats eat bats? Do cats eat bats?” and\\n']\n"
     ]
    }
   ],
   "source": [
    "# segment text\n",
    "text = ct.segment_text(text)\n",
    "print(text)"
   ]
  },
  {
   "cell_type": "code",
   "execution_count": 15,
   "metadata": {},
   "outputs": [
    {
     "name": "stdout",
     "output_type": "stream",
     "text": [
      "{'chapter': 13, 'i': 19, 'down': 18, 'the': 45, 'rabbithole': 4, 'ii': 1, 'pool': 1, 'of': 21, 'tears': 1, 'iii': 1, 'a': 22, 'caucusrace': 1, 'and': 24, 'long': 1, 'tale': 1, 'iv': 1, 'rabbit': 5, 'sends': 1, 'in': 11, 'little': 2, 'bill': 1, 'v': 1, 'advice': 1, 'from': 2, 'caterpillar': 1, 'vi': 1, 'pig': 1, 'pepper': 1, 'vii': 1, 'mad': 1, 'teaparty': 1, 'viii': 1, 'queens': 1, 'croquetground': 1, 'ix': 1, 'mock': 1, 'turtles': 1, 'story': 1, 'x': 1, 'lobster': 1, 'quadrille': 1, 'xi': 1, 'who': 1, 'stole': 1, 'tarts': 1, 'xii': 1, 'alices': 1, 'evidence': 1, 'alice': 11, 'was': 21, 'beginning': 1, 'to': 34, 'get': 3, 'very': 11, 'tired': 1, 'sitting': 1, 'by': 3, 'her': 14, 'sister': 2, 'on': 4, 'bank': 1, 'having': 1, 'nothing': 4, 'do': 7, 'once': 2, 'or': 8, 'twice': 1, 'she': 25, 'had': 7, 'peeped': 1, 'into': 2, 'book': 2, 'reading': 1, 'but': 9, 'it': 23, 'no': 6, 'pictures': 3, 'conversations': 2, 'what': 7, 'is': 3, 'use': 1, 'thought': 4, 'without': 1, 'so': 6, 'considering': 2, 'own': 1, 'mind': 2, 'as': 10, 'well': 5, 'could': 2, 'for': 8, 'hot': 1, 'day': 1, 'made': 1, 'feel': 1, 'sleepy': 2, 'stupid': 1, 'whether': 1, 'pleasure': 1, 'making': 1, 'daisychain': 1, 'would': 3, 'be': 4, 'worth': 1, 'trouble': 1, 'getting': 2, 'up': 2, 'picking': 1, 'daisies': 1, 'when': 3, 'suddenly': 3, 'white': 1, 'with': 6, 'pink': 1, 'eyes': 1, 'ran': 2, 'close': 1, 'there': 6, 'remarkable': 1, 'that': 7, 'nor': 1, 'did': 2, 'think': 9, 'much': 2, 'out': 6, 'way': 3, 'hear': 1, 'say': 4, 'itself': 1, 'oh': 2, 'dear': 3, 'shall': 5, 'late': 1, 'over': 2, 'afterwards': 1, 'occurred': 1, 'ought': 1, 'have': 2, 'wondered': 1, 'at': 7, 'this': 7, 'time': 5, 'all': 3, 'seemed': 1, 'quite': 1, 'natural': 1, 'actually': 1, 'took': 2, 'watch': 2, 'its': 1, 'waistcoatpocket': 2, 'looked': 2, 'then': 4, 'hurried': 1, 'started': 1, 'feet': 1, 'flashed': 1, 'across': 2, 'never': 4, 'before': 2, 'seen': 1, 'either': 3, 'take': 1, 'burning': 1, 'curiosity': 1, 'field': 1, 'after': 3, 'fortunately': 1, 'just': 1, 'see': 5, 'pop': 1, 'large': 1, 'under': 1, 'hedge': 1, 'another': 1, 'moment': 2, 'went': 4, 'how': 4, 'world': 1, 'again': 3, 'straight': 1, 'like': 3, 'tunnel': 1, 'some': 1, 'dipped': 1, 'not': 3, 'about': 4, 'stopping': 1, 'herself': 4, 'found': 1, 'falling': 2, 'deep': 2, 'fell': 3, 'slowly': 1, 'plenty': 1, 'look': 2, 'wonder': 5, 'going': 1, 'happen': 1, 'next': 1, 'first': 1, 'tried': 2, 'make': 1, 'coming': 1, 'too': 1, 'dark': 1, 'anything': 2, 'sides': 1, 'noticed': 1, 'they': 2, 'were': 3, 'filled': 1, 'cupboards': 2, 'bookshelves': 1, 'here': 3, 'saw': 1, 'maps': 1, 'hung': 1, 'upon': 1, 'pegs': 1, 'jar': 2, 'one': 4, 'shelves': 1, 'passed': 1, 'labelled': 1, 'orange': 1, 'marmalade': 1, 'great': 1, 'disappointment': 1, 'empty': 1, 'drop': 1, 'fear': 1, 'killing': 1, 'somebody': 1, 'underneath': 1, 'managed': 1, 'put': 1, 'past': 1, 'such': 1, 'fall': 3, 'tumbling': 1, 'stairs': 1, 'brave': 1, 'theyll': 2, 'me': 5, 'home': 1, 'why': 1, 'wouldnt': 1, 'even': 1, 'if': 2, 'off': 2, 'top': 1, 'house': 1, 'which': 1, 'likely': 1, 'true': 1, 'come': 2, 'an': 2, 'end': 1, 'many': 1, 'miles': 2, 'ive': 2, 'fallen': 1, 'said': 1, 'aloud': 1, 'must': 1, 'somewhere': 2, 'near': 1, 'centre': 1, 'earth': 2, 'let': 1, 'four': 1, 'thousand': 1, 'you': 7, 'learnt': 1, 'several': 1, 'things': 1, 'sort': 2, 'lessons': 1, 'schoolroom': 1, 'though': 1, 'good': 2, 'opportunity': 1, 'showing': 1, 'knowledge': 1, 'listen': 1, 'still': 1, 'practice': 1, 'yes': 1, 'thats': 2, 'right': 3, 'distancebut': 1, 'latitude': 2, 'longitude': 2, 'got': 1, 'idea': 1, 'nice': 1, 'grand': 1, 'words': 1, 'presently': 1, 'began': 3, 'through': 2, 'funny': 1, 'itll': 2, 'seem': 1, 'among': 1, 'people': 1, 'walk': 1, 'their': 1, 'heads': 1, 'downward': 1, 'antipathies': 1, 'rather': 2, 'glad': 1, 'listening': 1, 'didnt': 1, 'sound': 1, 'word': 1, 'ask': 2, 'them': 1, 'name': 1, 'country': 1, 'know': 2, 'please': 1, 'maam': 1, 'new': 1, 'zealand': 1, 'australia': 1, 'curtsey': 1, 'spokefancy': 1, 'curtseying': 1, 'youre': 1, 'air': 2, 'manage': 1, 'ignorant': 1, 'girl': 1, 'shell': 1, 'asking': 1, 'perhaps': 1, 'written': 1, 'else': 1, 'soon': 1, 'talking': 1, 'dinahll': 1, 'miss': 1, 'tonight': 1, 'should': 1, 'dinah': 2, 'cat': 1, 'hope': 1, 'remember': 1, 'saucer': 1, 'milk': 1, 'teatime': 1, 'my': 1, 'wish': 1, 'are': 1, 'mice': 1, 'im': 1, 'afraid': 1, 'might': 1, 'catch': 1, 'bat': 1, 'mouse': 1, 'cats': 3, 'eat': 3, 'bats': 3, 'saying': 1, 'dreamy': 1}\n"
     ]
    }
   ],
   "source": [
    "# count the words!\n",
    "wc = ct.count_words(text)\n",
    "print(wc)"
   ]
  },
  {
   "cell_type": "markdown",
   "metadata": {},
   "source": [
    "## Importing a class that you've defined\n",
    "* Once you have written a class to define an object, you can import it and use it in any of your other projects without re-typing all the code or copying and pasting it into a notebook...\n",
    "* Here we can use the writefile cell magic to write a text file with our code ( a .py file is just a text file that is associated with python code). "
   ]
  },
  {
   "cell_type": "code",
   "execution_count": null,
   "metadata": {},
   "outputs": [],
   "source": [
    "%%writefile MyMath.py\n",
    "class MyMath():\n",
    "    \n",
    "    def multiply(self, num1, num2):\n",
    "        return num1 * num2\n",
    "        \n",
    "    def minus(self, num1, num2):\n",
    "        return num1 - num2\n",
    "    \n",
    "    def add(self, num1, num2):\n",
    "        return num1 + num2\n",
    "    \n",
    "    def divide(self, num1, num2):\n",
    "        return num1 / num2 \n",
    "    \n",
    "    # of course we have a built-in ** operator \n",
    "    # to do this, but see how we can call another \n",
    "    # method in this class using self...\n",
    "    def square(self, num1):\n",
    "        return self.multiply(num1, num1)"
   ]
  },
  {
   "cell_type": "markdown",
   "metadata": {},
   "source": [
    "### Now we can import the object and use it..."
   ]
  },
  {
   "cell_type": "code",
   "execution_count": 1,
   "metadata": {},
   "outputs": [
    {
     "data": {
      "text/plain": [
       "100"
      ]
     },
     "execution_count": 1,
     "metadata": {},
     "output_type": "execute_result"
    }
   ],
   "source": [
    "# import the contents of the file...* means \"everything\"\n",
    "from MyMath import *\n",
    "\n",
    "# make our object...\n",
    "mm = MyMath()\n",
    "\n",
    "# then we can use it!\n",
    "mm.square(10)"
   ]
  },
  {
   "cell_type": "markdown",
   "metadata": {},
   "source": [
    "\n",
    "## Classes Review\n",
    "\n",
    "- `class` creates a new class type\n",
    "    - names tend to use CapWords case\n",
    "    - can have attributes (including instance attributes) and methods\n",
    "        - `obj.attribute` accesses data stored in attribute\n",
    "        - `obj.method()` carries out code defined within method\n"
   ]
  },
  {
   "cell_type": "markdown",
   "metadata": {},
   "source": [
    "- instance attributes defined with `__init__`\n",
    "    - `__init__` is a reserved method in Python\n",
    "    - This \"binds the attributes with the given arguments\"\n",
    "    - `self` refers to current instance"
   ]
  },
  {
   "cell_type": "markdown",
   "metadata": {},
   "source": [
    "- to create an object (instance) of a specified class type (`ClassType`):\n",
    "    - `object_name = ClassType(input1, input2)`\n",
    "    - `self` is not given an input when creating an object of a specified class"
   ]
  }
 ],
 "metadata": {
  "kernelspec": {
   "display_name": "Python 3 (ipykernel)",
   "language": "python",
   "name": "python3"
  },
  "language_info": {
   "codemirror_mode": {
    "name": "ipython",
    "version": 3
   },
   "file_extension": ".py",
   "mimetype": "text/x-python",
   "name": "python",
   "nbconvert_exporter": "python",
   "pygments_lexer": "ipython3",
   "version": "3.9.7"
  }
 },
 "nbformat": 4,
 "nbformat_minor": 1
}
